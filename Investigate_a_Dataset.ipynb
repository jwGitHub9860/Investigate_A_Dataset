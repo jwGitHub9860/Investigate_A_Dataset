{
 "cells": [
  {
   "cell_type": "markdown",
   "metadata": {
    "tags": []
   },
   "source": [
    "> **Tip**: Welcome to the Investigate a Dataset project! You will find tips in quoted sections like this to help organize your approach to your investigation. Once you complete this project, remove these **Tip** sections from your report before submission. First things first, you might want to double-click this Markdown cell and change the title so that it reflects your dataset and investigation.\n",
    "\n",
    "# Project: Investigate a Dataset - TMDb movie data\n",
    "\n",
    "## Table of Contents\n",
    "<ul>\n",
    "<li><a href=\"#intro\">Introduction</a></li>\n",
    "<li><a href=\"#wrangling\">Data Wrangling</a></li>\n",
    "<li><a href=\"#eda\">Exploratory Data Analysis</a></li>\n",
    "<li><a href=\"#conclusions\">Conclusions</a></li>\n",
    "</ul>"
   ]
  },
  {
   "cell_type": "markdown",
   "metadata": {},
   "source": [
    "<a id='intro'></a>\n",
    "## Introduction\n",
    "\n",
    "### Dataset Description \n",
    "\n",
    "> **Tip**: In this section of the report, provide a brief introduction to the dataset you've selected/downloaded for analysis. Read through the description available on the `Project Details` page of `Investigate a Dataset` lesson for this course. List all column names in each table, and their significance. In case of multiple tables, describe the relationship between tables. \n",
    "\n",
    "  The choosen dataset contains data of 10,000 movies from The Movie Database (TMDb).\n",
    "\n",
    "##### The column names in the dataset are listed below and explains the data they hold:\n",
    "- **_id_** - movie id\n",
    "- **_imdb_id_** - imdb id\n",
    "- **_popularity_** - how popular the movie is\n",
    "- **_budget_** - amount of money spent to make the movie\n",
    "- **_revenue_** - income recieved for making the movie\n",
    "- **_original_title_** - title of the movie\n",
    "- **_cast_** - the main actors and actresses in the movie\n",
    "- **_homepage_** - website showing information about movie\n",
    "- **_director_** - movie director\n",
    "- **_tagline_** - quote from movie\n",
    "- **_keywords_** - keywords about movie\n",
    "- **_overview_** - explaination of what movie is about\n",
    "- **_runtime_** - minutes the movie lasted\n",
    "- **_genres_** - genres that movies fit in\n",
    "- **_production_companies_** - companies that funded creating the movie\n",
    "- **_release_date_** - date movie was released\n",
    "- **_vote_count_** - amount of votes for movie\n",
    "- **_vote_average_** - average of votes for movie\n",
    "- **_release_year_** - year movie was released\n",
    "- **_budget_adj_** - amount of money spent to make movie in terms of 2010 dollars\n",
    "- **_revenue_adj_** - amount of money earned from making movie in terms of 2010 dollars \n",
    "\n",
    "### Question(s) for Analysis\n",
    ">**Tip**: Clearly state one or more questions that you plan on exploring over the course of the report. You will address these questions in the **data analysis** and **conclusion** sections. Try to build your report around the analysis of at least one dependent variable and three independent variables. If you're not sure what questions to ask, then make sure you familiarize yourself with the dataset, its variables and the dataset context for ideas of what to explore.\n",
    "\n",
    "> **Tip**: Once you start coding, use NumPy arrays, Pandas Series, and DataFrames where appropriate rather than Python lists and dictionaries. Also, **use good coding practices**, such as, define and use functions to avoid repetitive code. Use appropriate comments within the code cells, explanation in the mark-down cells, and meaningful variable names. "
   ]
  },
  {
   "cell_type": "markdown",
   "metadata": {},
   "source": [
    "### 1. Which genres are most popular from 2008 to 2011?\n",
    "### 2. Which actor played in the most movies released in 2015: Tom Cruise, Dylan O'Brien, Emma Watson, or Jennifer Lawrence?"
   ]
  },
  {
   "cell_type": "code",
   "execution_count": 1314,
   "metadata": {
    "tags": []
   },
   "outputs": [],
   "source": [
    "# Use this cell to set up import statements for all of the packages that you\n",
    "#   plan to use.\n",
    "import numpy as np\n",
    "import pandas as pd\n",
    "\n",
    "# While optional for current notebooks, if you are having trouble with visualizations,\n",
    "#   remember to include a 'magic word' so that your visualizations are plotted\n",
    "#   inline with the notebook. See this page for more:\n",
    "#   http://ipython.readthedocs.io/en/stable/interactive/magics.html\n",
    "%matplotlib inline"
   ]
  },
  {
   "cell_type": "markdown",
   "metadata": {},
   "source": [
    "<a id='wrangling'></a>\n",
    "## Data Wrangling\n",
    "\n",
    "> **Tip**: In this section of the report, you will load in the data, check for cleanliness, and then trim and clean your dataset for analysis. Make sure that you **document your data cleaning steps in mark-down cells precisely and justify your cleaning decisions.**\n",
    "\n",
    "\n",
    "### General Properties\n",
    "> **Tip**: You should _not_ perform too many operations in each cell. Create cells freely to explore your data. One option that you can take with this project is to do a lot of explorations initially. This does not have to be organized, but make sure you use enough comments to understand the purpose of each code cell. Then, after you're done with your analysis, trim the excess and organize your steps so that you have a flowing, cohesive report."
   ]
  },
  {
   "cell_type": "markdown",
   "metadata": {},
   "source": [
    "### **Cell 1:**"
   ]
  },
  {
   "cell_type": "code",
   "execution_count": 1315,
   "metadata": {
    "tags": []
   },
   "outputs": [
    {
     "data": {
      "text/html": [
       "<div>\n",
       "<style scoped>\n",
       "    .dataframe tbody tr th:only-of-type {\n",
       "        vertical-align: middle;\n",
       "    }\n",
       "\n",
       "    .dataframe tbody tr th {\n",
       "        vertical-align: top;\n",
       "    }\n",
       "\n",
       "    .dataframe thead th {\n",
       "        text-align: right;\n",
       "    }\n",
       "</style>\n",
       "<table border=\"1\" class=\"dataframe\">\n",
       "  <thead>\n",
       "    <tr style=\"text-align: right;\">\n",
       "      <th></th>\n",
       "      <th>id</th>\n",
       "      <th>imdb_id</th>\n",
       "      <th>popularity</th>\n",
       "      <th>budget</th>\n",
       "      <th>revenue</th>\n",
       "      <th>original_title</th>\n",
       "      <th>cast</th>\n",
       "      <th>homepage</th>\n",
       "      <th>director</th>\n",
       "      <th>tagline</th>\n",
       "      <th>...</th>\n",
       "      <th>overview</th>\n",
       "      <th>runtime</th>\n",
       "      <th>genres</th>\n",
       "      <th>production_companies</th>\n",
       "      <th>release_date</th>\n",
       "      <th>vote_count</th>\n",
       "      <th>vote_average</th>\n",
       "      <th>release_year</th>\n",
       "      <th>budget_adj</th>\n",
       "      <th>revenue_adj</th>\n",
       "    </tr>\n",
       "  </thead>\n",
       "  <tbody>\n",
       "    <tr>\n",
       "      <th>0</th>\n",
       "      <td>135397</td>\n",
       "      <td>tt0369610</td>\n",
       "      <td>32.985763</td>\n",
       "      <td>150000000</td>\n",
       "      <td>1513528810</td>\n",
       "      <td>Jurassic World</td>\n",
       "      <td>Chris Pratt|Bryce Dallas Howard|Irrfan Khan|Vi...</td>\n",
       "      <td>http://www.jurassicworld.com/</td>\n",
       "      <td>Colin Trevorrow</td>\n",
       "      <td>The park is open.</td>\n",
       "      <td>...</td>\n",
       "      <td>Twenty-two years after the events of Jurassic ...</td>\n",
       "      <td>124</td>\n",
       "      <td>Action|Adventure|Science Fiction|Thriller</td>\n",
       "      <td>Universal Studios|Amblin Entertainment|Legenda...</td>\n",
       "      <td>6/9/15</td>\n",
       "      <td>5562</td>\n",
       "      <td>6.5</td>\n",
       "      <td>2015</td>\n",
       "      <td>1.379999e+08</td>\n",
       "      <td>1.392446e+09</td>\n",
       "    </tr>\n",
       "    <tr>\n",
       "      <th>1</th>\n",
       "      <td>76341</td>\n",
       "      <td>tt1392190</td>\n",
       "      <td>28.419936</td>\n",
       "      <td>150000000</td>\n",
       "      <td>378436354</td>\n",
       "      <td>Mad Max: Fury Road</td>\n",
       "      <td>Tom Hardy|Charlize Theron|Hugh Keays-Byrne|Nic...</td>\n",
       "      <td>http://www.madmaxmovie.com/</td>\n",
       "      <td>George Miller</td>\n",
       "      <td>What a Lovely Day.</td>\n",
       "      <td>...</td>\n",
       "      <td>An apocalyptic story set in the furthest reach...</td>\n",
       "      <td>120</td>\n",
       "      <td>Action|Adventure|Science Fiction|Thriller</td>\n",
       "      <td>Village Roadshow Pictures|Kennedy Miller Produ...</td>\n",
       "      <td>5/13/15</td>\n",
       "      <td>6185</td>\n",
       "      <td>7.1</td>\n",
       "      <td>2015</td>\n",
       "      <td>1.379999e+08</td>\n",
       "      <td>3.481613e+08</td>\n",
       "    </tr>\n",
       "    <tr>\n",
       "      <th>2</th>\n",
       "      <td>262500</td>\n",
       "      <td>tt2908446</td>\n",
       "      <td>13.112507</td>\n",
       "      <td>110000000</td>\n",
       "      <td>295238201</td>\n",
       "      <td>Insurgent</td>\n",
       "      <td>Shailene Woodley|Theo James|Kate Winslet|Ansel...</td>\n",
       "      <td>http://www.thedivergentseries.movie/#insurgent</td>\n",
       "      <td>Robert Schwentke</td>\n",
       "      <td>One Choice Can Destroy You</td>\n",
       "      <td>...</td>\n",
       "      <td>Beatrice Prior must confront her inner demons ...</td>\n",
       "      <td>119</td>\n",
       "      <td>Adventure|Science Fiction|Thriller</td>\n",
       "      <td>Summit Entertainment|Mandeville Films|Red Wago...</td>\n",
       "      <td>3/18/15</td>\n",
       "      <td>2480</td>\n",
       "      <td>6.3</td>\n",
       "      <td>2015</td>\n",
       "      <td>1.012000e+08</td>\n",
       "      <td>2.716190e+08</td>\n",
       "    </tr>\n",
       "    <tr>\n",
       "      <th>3</th>\n",
       "      <td>140607</td>\n",
       "      <td>tt2488496</td>\n",
       "      <td>11.173104</td>\n",
       "      <td>200000000</td>\n",
       "      <td>2068178225</td>\n",
       "      <td>Star Wars: The Force Awakens</td>\n",
       "      <td>Harrison Ford|Mark Hamill|Carrie Fisher|Adam D...</td>\n",
       "      <td>http://www.starwars.com/films/star-wars-episod...</td>\n",
       "      <td>J.J. Abrams</td>\n",
       "      <td>Every generation has a story.</td>\n",
       "      <td>...</td>\n",
       "      <td>Thirty years after defeating the Galactic Empi...</td>\n",
       "      <td>136</td>\n",
       "      <td>Action|Adventure|Science Fiction|Fantasy</td>\n",
       "      <td>Lucasfilm|Truenorth Productions|Bad Robot</td>\n",
       "      <td>12/15/15</td>\n",
       "      <td>5292</td>\n",
       "      <td>7.5</td>\n",
       "      <td>2015</td>\n",
       "      <td>1.839999e+08</td>\n",
       "      <td>1.902723e+09</td>\n",
       "    </tr>\n",
       "    <tr>\n",
       "      <th>4</th>\n",
       "      <td>168259</td>\n",
       "      <td>tt2820852</td>\n",
       "      <td>9.335014</td>\n",
       "      <td>190000000</td>\n",
       "      <td>1506249360</td>\n",
       "      <td>Furious 7</td>\n",
       "      <td>Vin Diesel|Paul Walker|Jason Statham|Michelle ...</td>\n",
       "      <td>http://www.furious7.com/</td>\n",
       "      <td>James Wan</td>\n",
       "      <td>Vengeance Hits Home</td>\n",
       "      <td>...</td>\n",
       "      <td>Deckard Shaw seeks revenge against Dominic Tor...</td>\n",
       "      <td>137</td>\n",
       "      <td>Action|Crime|Thriller</td>\n",
       "      <td>Universal Pictures|Original Film|Media Rights ...</td>\n",
       "      <td>4/1/15</td>\n",
       "      <td>2947</td>\n",
       "      <td>7.3</td>\n",
       "      <td>2015</td>\n",
       "      <td>1.747999e+08</td>\n",
       "      <td>1.385749e+09</td>\n",
       "    </tr>\n",
       "  </tbody>\n",
       "</table>\n",
       "<p>5 rows × 21 columns</p>\n",
       "</div>"
      ],
      "text/plain": [
       "       id    imdb_id  popularity     budget     revenue  \\\n",
       "0  135397  tt0369610   32.985763  150000000  1513528810   \n",
       "1   76341  tt1392190   28.419936  150000000   378436354   \n",
       "2  262500  tt2908446   13.112507  110000000   295238201   \n",
       "3  140607  tt2488496   11.173104  200000000  2068178225   \n",
       "4  168259  tt2820852    9.335014  190000000  1506249360   \n",
       "\n",
       "                 original_title  \\\n",
       "0                Jurassic World   \n",
       "1            Mad Max: Fury Road   \n",
       "2                     Insurgent   \n",
       "3  Star Wars: The Force Awakens   \n",
       "4                     Furious 7   \n",
       "\n",
       "                                                cast  \\\n",
       "0  Chris Pratt|Bryce Dallas Howard|Irrfan Khan|Vi...   \n",
       "1  Tom Hardy|Charlize Theron|Hugh Keays-Byrne|Nic...   \n",
       "2  Shailene Woodley|Theo James|Kate Winslet|Ansel...   \n",
       "3  Harrison Ford|Mark Hamill|Carrie Fisher|Adam D...   \n",
       "4  Vin Diesel|Paul Walker|Jason Statham|Michelle ...   \n",
       "\n",
       "                                            homepage          director  \\\n",
       "0                      http://www.jurassicworld.com/   Colin Trevorrow   \n",
       "1                        http://www.madmaxmovie.com/     George Miller   \n",
       "2     http://www.thedivergentseries.movie/#insurgent  Robert Schwentke   \n",
       "3  http://www.starwars.com/films/star-wars-episod...       J.J. Abrams   \n",
       "4                           http://www.furious7.com/         James Wan   \n",
       "\n",
       "                         tagline  ...  \\\n",
       "0              The park is open.  ...   \n",
       "1             What a Lovely Day.  ...   \n",
       "2     One Choice Can Destroy You  ...   \n",
       "3  Every generation has a story.  ...   \n",
       "4            Vengeance Hits Home  ...   \n",
       "\n",
       "                                            overview runtime  \\\n",
       "0  Twenty-two years after the events of Jurassic ...     124   \n",
       "1  An apocalyptic story set in the furthest reach...     120   \n",
       "2  Beatrice Prior must confront her inner demons ...     119   \n",
       "3  Thirty years after defeating the Galactic Empi...     136   \n",
       "4  Deckard Shaw seeks revenge against Dominic Tor...     137   \n",
       "\n",
       "                                      genres  \\\n",
       "0  Action|Adventure|Science Fiction|Thriller   \n",
       "1  Action|Adventure|Science Fiction|Thriller   \n",
       "2         Adventure|Science Fiction|Thriller   \n",
       "3   Action|Adventure|Science Fiction|Fantasy   \n",
       "4                      Action|Crime|Thriller   \n",
       "\n",
       "                                production_companies release_date vote_count  \\\n",
       "0  Universal Studios|Amblin Entertainment|Legenda...       6/9/15       5562   \n",
       "1  Village Roadshow Pictures|Kennedy Miller Produ...      5/13/15       6185   \n",
       "2  Summit Entertainment|Mandeville Films|Red Wago...      3/18/15       2480   \n",
       "3          Lucasfilm|Truenorth Productions|Bad Robot     12/15/15       5292   \n",
       "4  Universal Pictures|Original Film|Media Rights ...       4/1/15       2947   \n",
       "\n",
       "   vote_average  release_year    budget_adj   revenue_adj  \n",
       "0           6.5          2015  1.379999e+08  1.392446e+09  \n",
       "1           7.1          2015  1.379999e+08  3.481613e+08  \n",
       "2           6.3          2015  1.012000e+08  2.716190e+08  \n",
       "3           7.5          2015  1.839999e+08  1.902723e+09  \n",
       "4           7.3          2015  1.747999e+08  1.385749e+09  \n",
       "\n",
       "[5 rows x 21 columns]"
      ]
     },
     "execution_count": 1315,
     "metadata": {},
     "output_type": "execute_result"
    }
   ],
   "source": [
    "# Load your data and print out a few lines. What is the size of your dataframe? \n",
    "#   Perform operations to inspect data types and look for instances of missing\n",
    "#   or possibly errant data. There are at least 4 - 6 methods you can call on your\n",
    "#   dataframe to obtain this information.\n",
    "\n",
    "df = pd.read_csv('tmdb-movies.csv') # loads csv file\n",
    "df.head() # displays first 5 lines of raw data"
   ]
  },
  {
   "cell_type": "markdown",
   "metadata": {},
   "source": [
    "### **Cell 2:**"
   ]
  },
  {
   "cell_type": "code",
   "execution_count": 1316,
   "metadata": {},
   "outputs": [
    {
     "data": {
      "text/plain": [
       "0        monster|dna|tyrannosaurus rex|velociraptor|island\n",
       "1         future|chase|post-apocalyptic|dystopia|australia\n",
       "2        based on novel|revolution|dystopia|sequel|dyst...\n",
       "3                    android|spaceship|jedi|space opera|3d\n",
       "4                      car race|speed|revenge|suspense|car\n",
       "                               ...                        \n",
       "10861                             surfer|surfboard|surfing\n",
       "10862                            car race|racing|formula 1\n",
       "10863                             car|trolley|stealing car\n",
       "10864                                                spoof\n",
       "10865                  fire|gun|drive|sacrifice|flashlight\n",
       "Name: keywords, Length: 10866, dtype: object"
      ]
     },
     "execution_count": 1316,
     "metadata": {},
     "output_type": "execute_result"
    }
   ],
   "source": [
    "df['keywords'] # displays \"keywords\" column data (ONLY column that was NOT SHOWN)"
   ]
  },
  {
   "cell_type": "markdown",
   "metadata": {},
   "source": [
    "### **Cell 3:**"
   ]
  },
  {
   "cell_type": "code",
   "execution_count": 1317,
   "metadata": {},
   "outputs": [
    {
     "data": {
      "text/plain": [
       "(10866, 21)"
      ]
     },
     "execution_count": 1317,
     "metadata": {},
     "output_type": "execute_result"
    }
   ],
   "source": [
    "df.shape # displays size of dataframe "
   ]
  },
  {
   "cell_type": "markdown",
   "metadata": {},
   "source": [
    "### **Cell 4:**"
   ]
  },
  {
   "cell_type": "code",
   "execution_count": 1318,
   "metadata": {},
   "outputs": [
    {
     "data": {
      "text/plain": [
       "id                      10866\n",
       "imdb_id                 10856\n",
       "popularity              10866\n",
       "budget                  10866\n",
       "revenue                 10866\n",
       "original_title          10866\n",
       "cast                    10790\n",
       "homepage                 2936\n",
       "director                10822\n",
       "tagline                  8042\n",
       "keywords                 9373\n",
       "overview                10862\n",
       "runtime                 10866\n",
       "genres                  10843\n",
       "production_companies     9836\n",
       "release_date            10866\n",
       "vote_count              10866\n",
       "vote_average            10866\n",
       "release_year            10866\n",
       "budget_adj              10866\n",
       "revenue_adj             10866\n",
       "dtype: int64"
      ]
     },
     "execution_count": 1318,
     "metadata": {},
     "output_type": "execute_result"
    }
   ],
   "source": [
    "df.count() # displays amount of NON-missing data in each column (only want to know LOCATION of null values in Columns)\n",
    "\n",
    "# if \".isnull()\", \"isna()\", or \".notnull()\" is used, it will display \"True\" or \"False\" in columns"
   ]
  },
  {
   "cell_type": "markdown",
   "metadata": {},
   "source": [
    "##### The data above displays the amount of data values each column has. Since the dataset has 10866 rows, any column that has less than 10866 data values has null values. This shows that the following columns have null values: **imdb_id**, **cast**, **homepage**, **director**, **tagline**, **keywords**, **overview, genres, and production_companies."
   ]
  },
  {
   "cell_type": "markdown",
   "metadata": {},
   "source": [
    "\n",
    "### Data Cleaning\n",
    "> **Tip**: Make sure that you keep your reader informed on the steps that you are taking in your investigation. Follow every code cell, or every set of related code cells, with a markdown cell to describe to the reader what was found in the preceding cell(s). Try to make it so that the reader can then understand what they will be seeing in the following cell(s).\n",
    " "
   ]
  },
  {
   "cell_type": "markdown",
   "metadata": {},
   "source": [
    "### **Cell 1:**"
   ]
  },
  {
   "cell_type": "code",
   "execution_count": 1319,
   "metadata": {
    "scrolled": true,
    "tags": []
   },
   "outputs": [
    {
     "data": {
      "text/html": [
       "<div>\n",
       "<style scoped>\n",
       "    .dataframe tbody tr th:only-of-type {\n",
       "        vertical-align: middle;\n",
       "    }\n",
       "\n",
       "    .dataframe tbody tr th {\n",
       "        vertical-align: top;\n",
       "    }\n",
       "\n",
       "    .dataframe thead th {\n",
       "        text-align: right;\n",
       "    }\n",
       "</style>\n",
       "<table border=\"1\" class=\"dataframe\">\n",
       "  <thead>\n",
       "    <tr style=\"text-align: right;\">\n",
       "      <th></th>\n",
       "      <th>imdb_id</th>\n",
       "      <th>cast</th>\n",
       "      <th>homepage</th>\n",
       "      <th>director</th>\n",
       "      <th>tagline</th>\n",
       "      <th>keywords</th>\n",
       "      <th>overview</th>\n",
       "      <th>genres</th>\n",
       "      <th>production_companies</th>\n",
       "    </tr>\n",
       "  </thead>\n",
       "  <tbody>\n",
       "    <tr>\n",
       "      <th>10861</th>\n",
       "      <td>tt0060371</td>\n",
       "      <td>Michael Hynson|Robert August|Lord 'Tally Ho' B...</td>\n",
       "      <td>NaN</td>\n",
       "      <td>Bruce Brown</td>\n",
       "      <td>NaN</td>\n",
       "      <td>surfer|surfboard|surfing</td>\n",
       "      <td>The Endless Summer, by Bruce Brown, is one of ...</td>\n",
       "      <td>Documentary</td>\n",
       "      <td>Bruce Brown Films</td>\n",
       "    </tr>\n",
       "    <tr>\n",
       "      <th>10862</th>\n",
       "      <td>tt0060472</td>\n",
       "      <td>James Garner|Eva Marie Saint|Yves Montand|Tosh...</td>\n",
       "      <td>NaN</td>\n",
       "      <td>John Frankenheimer</td>\n",
       "      <td>Cinerama sweeps YOU into a drama of speed and ...</td>\n",
       "      <td>car race|racing|formula 1</td>\n",
       "      <td>Grand Prix driver Pete Aron is fired by his te...</td>\n",
       "      <td>Action|Adventure|Drama</td>\n",
       "      <td>Cherokee Productions|Joel Productions|Douglas ...</td>\n",
       "    </tr>\n",
       "    <tr>\n",
       "      <th>10863</th>\n",
       "      <td>tt0060161</td>\n",
       "      <td>Innokentiy Smoktunovskiy|Oleg Efremov|Georgi Z...</td>\n",
       "      <td>NaN</td>\n",
       "      <td>Eldar Ryazanov</td>\n",
       "      <td>NaN</td>\n",
       "      <td>car|trolley|stealing car</td>\n",
       "      <td>An insurance agent who moonlights as a carthie...</td>\n",
       "      <td>Mystery|Comedy</td>\n",
       "      <td>Mosfilm</td>\n",
       "    </tr>\n",
       "    <tr>\n",
       "      <th>10864</th>\n",
       "      <td>tt0061177</td>\n",
       "      <td>Tatsuya Mihashi|Akiko Wakabayashi|Mie Hama|Joh...</td>\n",
       "      <td>NaN</td>\n",
       "      <td>Woody Allen</td>\n",
       "      <td>WOODY ALLEN STRIKES BACK!</td>\n",
       "      <td>spoof</td>\n",
       "      <td>In comic Woody Allen's film debut, he took the...</td>\n",
       "      <td>Action|Comedy</td>\n",
       "      <td>Benedict Pictures Corp.</td>\n",
       "    </tr>\n",
       "    <tr>\n",
       "      <th>10865</th>\n",
       "      <td>tt0060666</td>\n",
       "      <td>Harold P. Warren|Tom Neyman|John Reynolds|Dian...</td>\n",
       "      <td>NaN</td>\n",
       "      <td>Harold P. Warren</td>\n",
       "      <td>It's Shocking! It's Beyond Your Imagination!</td>\n",
       "      <td>fire|gun|drive|sacrifice|flashlight</td>\n",
       "      <td>A family gets lost on the road and stumbles up...</td>\n",
       "      <td>Horror</td>\n",
       "      <td>Norm-Iris</td>\n",
       "    </tr>\n",
       "  </tbody>\n",
       "</table>\n",
       "</div>"
      ],
      "text/plain": [
       "         imdb_id                                               cast homepage  \\\n",
       "10861  tt0060371  Michael Hynson|Robert August|Lord 'Tally Ho' B...      NaN   \n",
       "10862  tt0060472  James Garner|Eva Marie Saint|Yves Montand|Tosh...      NaN   \n",
       "10863  tt0060161  Innokentiy Smoktunovskiy|Oleg Efremov|Georgi Z...      NaN   \n",
       "10864  tt0061177  Tatsuya Mihashi|Akiko Wakabayashi|Mie Hama|Joh...      NaN   \n",
       "10865  tt0060666  Harold P. Warren|Tom Neyman|John Reynolds|Dian...      NaN   \n",
       "\n",
       "                 director                                            tagline  \\\n",
       "10861         Bruce Brown                                                NaN   \n",
       "10862  John Frankenheimer  Cinerama sweeps YOU into a drama of speed and ...   \n",
       "10863      Eldar Ryazanov                                                NaN   \n",
       "10864         Woody Allen                          WOODY ALLEN STRIKES BACK!   \n",
       "10865    Harold P. Warren       It's Shocking! It's Beyond Your Imagination!   \n",
       "\n",
       "                                  keywords  \\\n",
       "10861             surfer|surfboard|surfing   \n",
       "10862            car race|racing|formula 1   \n",
       "10863             car|trolley|stealing car   \n",
       "10864                                spoof   \n",
       "10865  fire|gun|drive|sacrifice|flashlight   \n",
       "\n",
       "                                                overview  \\\n",
       "10861  The Endless Summer, by Bruce Brown, is one of ...   \n",
       "10862  Grand Prix driver Pete Aron is fired by his te...   \n",
       "10863  An insurance agent who moonlights as a carthie...   \n",
       "10864  In comic Woody Allen's film debut, he took the...   \n",
       "10865  A family gets lost on the road and stumbles up...   \n",
       "\n",
       "                       genres  \\\n",
       "10861             Documentary   \n",
       "10862  Action|Adventure|Drama   \n",
       "10863          Mystery|Comedy   \n",
       "10864           Action|Comedy   \n",
       "10865                  Horror   \n",
       "\n",
       "                                    production_companies  \n",
       "10861                                  Bruce Brown Films  \n",
       "10862  Cherokee Productions|Joel Productions|Douglas ...  \n",
       "10863                                            Mosfilm  \n",
       "10864                            Benedict Pictures Corp.  \n",
       "10865                                          Norm-Iris  "
      ]
     },
     "execution_count": 1319,
     "metadata": {},
     "output_type": "execute_result"
    }
   ],
   "source": [
    "# After discussing the structure of the data and any problems that need to be\n",
    "#   cleaned, perform those cleaning steps in the second part of this section.\n",
    "\n",
    "df.fillna(0)#, inplace=True) # replaces null values with 0 (MUST USE \"inplace=True\" TO ENSURE DATA FRAME IS MODIFIED)\n",
    "df[['imdb_id', 'cast', 'homepage', 'director', 'tagline', 'keywords', 'overview', 'genres', 'production_companies']].tail() # displays last 5 lines of raw data for columns: 'imdb_id', 'cast', 'homepage', 'director', 'tagline', 'keywords', 'overview', 'genres', and 'production_companies'"
   ]
  },
  {
   "cell_type": "markdown",
   "metadata": {},
   "source": [
    "##### Since the previous code cell confirmed that the dataset has null values, those null values, _NaN_, need to be replaced with a reasonable value. The first line of code in the cell above replaces the null values with 0. The second line of code displays the last five rows of raw data to show where some of the null values have been replaced with 0. If a row has a data value of 0, it means the row does not have the data about the movie pertaining to the column it is under."
   ]
  },
  {
   "cell_type": "markdown",
   "metadata": {},
   "source": [
    "### **Cell 2:**"
   ]
  },
  {
   "cell_type": "code",
   "execution_count": 1320,
   "metadata": {},
   "outputs": [
    {
     "name": "stdout",
     "output_type": "stream",
     "text": [
      "         id    imdb_id  popularity    budget  revenue original_title  \\\n",
      "2090  42194  tt0411951     0.59643  30000000   967000         TEKKEN   \n",
      "\n",
      "                                                   cast homepage  \\\n",
      "2090  Jon Foo|Kelly Overton|Cary-Hiroyuki Tagawa|Ian...      NaN   \n",
      "\n",
      "              director              tagline  ...  \\\n",
      "2090  Dwight H. Little  Survival is no game  ...   \n",
      "\n",
      "                                               overview runtime  \\\n",
      "2090  In the year of 2039, after World Wars destroy ...      92   \n",
      "\n",
      "                                           genres    production_companies  \\\n",
      "2090  Crime|Drama|Action|Thriller|Science Fiction  Namco|Light Song Films   \n",
      "\n",
      "     release_date vote_count  vote_average  release_year  budget_adj  \\\n",
      "2090      3/20/10        110           5.0          2010  30000000.0   \n",
      "\n",
      "      revenue_adj  \n",
      "2090     967000.0  \n",
      "\n",
      "[1 rows x 21 columns]\n"
     ]
    }
   ],
   "source": [
    "#df.duplicated(keep=True) # shows DUPLICATED rows (returns ERROR)\n",
    "\n",
    "duplicated_rows = df[df.duplicated()] # obtains duplicated rows ONLY\n",
    "print(duplicated_rows) # displays duplicated rows"
   ]
  },
  {
   "cell_type": "markdown",
   "metadata": {},
   "source": [
    "##### In the code cell above, the first line of code searches and obtains rows with duplicated data in the dataset. The second line of code displays any duplicated rows that were found. The result from the code cell shows that row 2090 is the only duplicated row in the dataset."
   ]
  },
  {
   "cell_type": "markdown",
   "metadata": {},
   "source": [
    "### **Cell 3:**"
   ]
  },
  {
   "cell_type": "code",
   "execution_count": 1321,
   "metadata": {},
   "outputs": [
    {
     "data": {
      "text/plain": [
       "1"
      ]
     },
     "execution_count": 1321,
     "metadata": {},
     "output_type": "execute_result"
    }
   ],
   "source": [
    "sum(df.duplicated()) # displays amount of duplicated rows"
   ]
  },
  {
   "cell_type": "markdown",
   "metadata": {},
   "source": [
    "##### The code in _Cell 3_ displays the total amount of duplicated rows in the dataset. The result shows that there is only **1** duplicated row in the dataset, confirming that row 2090 is the only duplicated row."
   ]
  },
  {
   "cell_type": "markdown",
   "metadata": {},
   "source": [
    "### **Cell 4:**"
   ]
  },
  {
   "cell_type": "code",
   "execution_count": 1322,
   "metadata": {},
   "outputs": [
    {
     "data": {
      "text/html": [
       "<div>\n",
       "<style scoped>\n",
       "    .dataframe tbody tr th:only-of-type {\n",
       "        vertical-align: middle;\n",
       "    }\n",
       "\n",
       "    .dataframe tbody tr th {\n",
       "        vertical-align: top;\n",
       "    }\n",
       "\n",
       "    .dataframe thead th {\n",
       "        text-align: right;\n",
       "    }\n",
       "</style>\n",
       "<table border=\"1\" class=\"dataframe\">\n",
       "  <thead>\n",
       "    <tr style=\"text-align: right;\">\n",
       "      <th></th>\n",
       "      <th>id</th>\n",
       "      <th>imdb_id</th>\n",
       "      <th>popularity</th>\n",
       "      <th>budget</th>\n",
       "      <th>revenue</th>\n",
       "      <th>original_title</th>\n",
       "      <th>cast</th>\n",
       "      <th>homepage</th>\n",
       "      <th>director</th>\n",
       "      <th>tagline</th>\n",
       "      <th>...</th>\n",
       "      <th>overview</th>\n",
       "      <th>runtime</th>\n",
       "      <th>genres</th>\n",
       "      <th>production_companies</th>\n",
       "      <th>release_date</th>\n",
       "      <th>vote_count</th>\n",
       "      <th>vote_average</th>\n",
       "      <th>release_year</th>\n",
       "      <th>budget_adj</th>\n",
       "      <th>revenue_adj</th>\n",
       "    </tr>\n",
       "  </thead>\n",
       "  <tbody>\n",
       "    <tr>\n",
       "      <th>2089</th>\n",
       "      <td>42194</td>\n",
       "      <td>tt0411951</td>\n",
       "      <td>0.596430</td>\n",
       "      <td>30000000</td>\n",
       "      <td>967000</td>\n",
       "      <td>TEKKEN</td>\n",
       "      <td>Jon Foo|Kelly Overton|Cary-Hiroyuki Tagawa|Ian...</td>\n",
       "      <td>NaN</td>\n",
       "      <td>Dwight H. Little</td>\n",
       "      <td>Survival is no game</td>\n",
       "      <td>...</td>\n",
       "      <td>In the year of 2039, after World Wars destroy ...</td>\n",
       "      <td>92</td>\n",
       "      <td>Crime|Drama|Action|Thriller|Science Fiction</td>\n",
       "      <td>Namco|Light Song Films</td>\n",
       "      <td>3/20/10</td>\n",
       "      <td>110</td>\n",
       "      <td>5.0</td>\n",
       "      <td>2010</td>\n",
       "      <td>30000000.0</td>\n",
       "      <td>967000.0</td>\n",
       "    </tr>\n",
       "    <tr>\n",
       "      <th>2090</th>\n",
       "      <td>42194</td>\n",
       "      <td>tt0411951</td>\n",
       "      <td>0.596430</td>\n",
       "      <td>30000000</td>\n",
       "      <td>967000</td>\n",
       "      <td>TEKKEN</td>\n",
       "      <td>Jon Foo|Kelly Overton|Cary-Hiroyuki Tagawa|Ian...</td>\n",
       "      <td>NaN</td>\n",
       "      <td>Dwight H. Little</td>\n",
       "      <td>Survival is no game</td>\n",
       "      <td>...</td>\n",
       "      <td>In the year of 2039, after World Wars destroy ...</td>\n",
       "      <td>92</td>\n",
       "      <td>Crime|Drama|Action|Thriller|Science Fiction</td>\n",
       "      <td>Namco|Light Song Films</td>\n",
       "      <td>3/20/10</td>\n",
       "      <td>110</td>\n",
       "      <td>5.0</td>\n",
       "      <td>2010</td>\n",
       "      <td>30000000.0</td>\n",
       "      <td>967000.0</td>\n",
       "    </tr>\n",
       "    <tr>\n",
       "      <th>2091</th>\n",
       "      <td>60309</td>\n",
       "      <td>tt0968264</td>\n",
       "      <td>0.591206</td>\n",
       "      <td>25000000</td>\n",
       "      <td>15478800</td>\n",
       "      <td>The Conspirator</td>\n",
       "      <td>Evan Rachel Wood|James McAvoy|Kevin Kline|Robi...</td>\n",
       "      <td>http://www.conspiratorthemovie.com/</td>\n",
       "      <td>Robert Redford</td>\n",
       "      <td>One bullet killed the President. But not one man.</td>\n",
       "      <td>...</td>\n",
       "      <td>Mary Surratt is the lone female charged as a c...</td>\n",
       "      <td>122</td>\n",
       "      <td>Crime|Drama|History</td>\n",
       "      <td>Wildwood Enterprises|American Film Company</td>\n",
       "      <td>9/10/10</td>\n",
       "      <td>78</td>\n",
       "      <td>5.9</td>\n",
       "      <td>2010</td>\n",
       "      <td>25000000.0</td>\n",
       "      <td>15478800.0</td>\n",
       "    </tr>\n",
       "  </tbody>\n",
       "</table>\n",
       "<p>3 rows × 21 columns</p>\n",
       "</div>"
      ],
      "text/plain": [
       "         id    imdb_id  popularity    budget   revenue   original_title  \\\n",
       "2089  42194  tt0411951    0.596430  30000000    967000           TEKKEN   \n",
       "2090  42194  tt0411951    0.596430  30000000    967000           TEKKEN   \n",
       "2091  60309  tt0968264    0.591206  25000000  15478800  The Conspirator   \n",
       "\n",
       "                                                   cast  \\\n",
       "2089  Jon Foo|Kelly Overton|Cary-Hiroyuki Tagawa|Ian...   \n",
       "2090  Jon Foo|Kelly Overton|Cary-Hiroyuki Tagawa|Ian...   \n",
       "2091  Evan Rachel Wood|James McAvoy|Kevin Kline|Robi...   \n",
       "\n",
       "                                 homepage          director  \\\n",
       "2089                                  NaN  Dwight H. Little   \n",
       "2090                                  NaN  Dwight H. Little   \n",
       "2091  http://www.conspiratorthemovie.com/    Robert Redford   \n",
       "\n",
       "                                                tagline  ...  \\\n",
       "2089                                Survival is no game  ...   \n",
       "2090                                Survival is no game  ...   \n",
       "2091  One bullet killed the President. But not one man.  ...   \n",
       "\n",
       "                                               overview runtime  \\\n",
       "2089  In the year of 2039, after World Wars destroy ...      92   \n",
       "2090  In the year of 2039, after World Wars destroy ...      92   \n",
       "2091  Mary Surratt is the lone female charged as a c...     122   \n",
       "\n",
       "                                           genres  \\\n",
       "2089  Crime|Drama|Action|Thriller|Science Fiction   \n",
       "2090  Crime|Drama|Action|Thriller|Science Fiction   \n",
       "2091                          Crime|Drama|History   \n",
       "\n",
       "                            production_companies release_date vote_count  \\\n",
       "2089                      Namco|Light Song Films      3/20/10        110   \n",
       "2090                      Namco|Light Song Films      3/20/10        110   \n",
       "2091  Wildwood Enterprises|American Film Company      9/10/10         78   \n",
       "\n",
       "      vote_average  release_year  budget_adj  revenue_adj  \n",
       "2089           5.0          2010  30000000.0     967000.0  \n",
       "2090           5.0          2010  30000000.0     967000.0  \n",
       "2091           5.9          2010  25000000.0   15478800.0  \n",
       "\n",
       "[3 rows x 21 columns]"
      ]
     },
     "execution_count": 1322,
     "metadata": {},
     "output_type": "execute_result"
    }
   ],
   "source": [
    "df.drop_duplicates()#inplace=False) # drops or deletes duplicated rows (MUST USE \"inplace=False\" TO ENSURE DATA FRAME IS MODIFIED)\n",
    "df.iloc[[2089, 2090, 2091]] # displays rows 2089-2091 to check if row 2090 was dropped"
   ]
  },
  {
   "cell_type": "markdown",
   "metadata": {},
   "source": [
    "##### Since there is one duplicated cell in the dataset, it needs to be removed. In _Cell 4_, the first line of code drops the duplicated row in the dataset. The second line displays rows 2089, 2090, and 2091. The second code line is used to confirm if row 2090 was dropped."
   ]
  },
  {
   "cell_type": "markdown",
   "metadata": {},
   "source": [
    "<a id='eda'></a>\n",
    "## Exploratory Data Analysis\n",
    "\n",
    "> **Tip**: Now that you've trimmed and cleaned your data, you're ready to move on to exploration. **Compute statistics** and **create visualizations** with the goal of addressing the research questions that you posed in the Introduction section. You should compute the relevant statistics throughout the analysis when an inference is made about the data. Note that at least two or more kinds of plots should be created as part of the exploration, and you must  compare and show trends in the varied visualizations. Remember to utilize the visualizations that the pandas library already has available.\n",
    "\n",
    "\n",
    "\n",
    "> **Tip**: Investigate the stated question(s) from multiple angles. It is recommended that you be systematic with your approach. Look at one variable at a time, and then follow it up by looking at relationships between variables. You should explore at least three variables in relation to the primary question. This can be an exploratory relationship between three variables of interest, or looking at how two independent variables relate to a single dependent variable of interest. Lastly, you  should perform both single-variable (1d) and multiple-variable (2d) explorations.\n",
    "\n",
    "\n",
    "### Which genres are most popular from 2008 to 2011?"
   ]
  },
  {
   "cell_type": "markdown",
   "metadata": {},
   "source": [
    "#### **Cell 1:**"
   ]
  },
  {
   "cell_type": "code",
   "execution_count": 1323,
   "metadata": {
    "tags": []
   },
   "outputs": [
    {
     "data": {
      "text/html": [
       "<div>\n",
       "<style scoped>\n",
       "    .dataframe tbody tr th:only-of-type {\n",
       "        vertical-align: middle;\n",
       "    }\n",
       "\n",
       "    .dataframe tbody tr th {\n",
       "        vertical-align: top;\n",
       "    }\n",
       "\n",
       "    .dataframe thead th {\n",
       "        text-align: right;\n",
       "    }\n",
       "</style>\n",
       "<table border=\"1\" class=\"dataframe\">\n",
       "  <thead>\n",
       "    <tr style=\"text-align: right;\">\n",
       "      <th></th>\n",
       "      <th>2008</th>\n",
       "      <th>2009</th>\n",
       "      <th>2010</th>\n",
       "      <th>2011</th>\n",
       "    </tr>\n",
       "  </thead>\n",
       "  <tbody>\n",
       "    <tr>\n",
       "      <th>Action</th>\n",
       "      <td>0</td>\n",
       "      <td>0</td>\n",
       "      <td>0</td>\n",
       "      <td>0</td>\n",
       "    </tr>\n",
       "    <tr>\n",
       "      <th>Adventure</th>\n",
       "      <td>0</td>\n",
       "      <td>0</td>\n",
       "      <td>0</td>\n",
       "      <td>0</td>\n",
       "    </tr>\n",
       "    <tr>\n",
       "      <th>Animation</th>\n",
       "      <td>0</td>\n",
       "      <td>0</td>\n",
       "      <td>0</td>\n",
       "      <td>0</td>\n",
       "    </tr>\n",
       "    <tr>\n",
       "      <th>Comedy</th>\n",
       "      <td>0</td>\n",
       "      <td>0</td>\n",
       "      <td>0</td>\n",
       "      <td>0</td>\n",
       "    </tr>\n",
       "    <tr>\n",
       "      <th>Crime</th>\n",
       "      <td>0</td>\n",
       "      <td>0</td>\n",
       "      <td>0</td>\n",
       "      <td>0</td>\n",
       "    </tr>\n",
       "    <tr>\n",
       "      <th>Drama</th>\n",
       "      <td>0</td>\n",
       "      <td>0</td>\n",
       "      <td>0</td>\n",
       "      <td>0</td>\n",
       "    </tr>\n",
       "    <tr>\n",
       "      <th>Documentary</th>\n",
       "      <td>0</td>\n",
       "      <td>0</td>\n",
       "      <td>0</td>\n",
       "      <td>0</td>\n",
       "    </tr>\n",
       "    <tr>\n",
       "      <th>Family</th>\n",
       "      <td>0</td>\n",
       "      <td>0</td>\n",
       "      <td>0</td>\n",
       "      <td>0</td>\n",
       "    </tr>\n",
       "    <tr>\n",
       "      <th>Fantasy</th>\n",
       "      <td>0</td>\n",
       "      <td>0</td>\n",
       "      <td>0</td>\n",
       "      <td>0</td>\n",
       "    </tr>\n",
       "    <tr>\n",
       "      <th>Foreign</th>\n",
       "      <td>0</td>\n",
       "      <td>0</td>\n",
       "      <td>0</td>\n",
       "      <td>0</td>\n",
       "    </tr>\n",
       "    <tr>\n",
       "      <th>History</th>\n",
       "      <td>0</td>\n",
       "      <td>0</td>\n",
       "      <td>0</td>\n",
       "      <td>0</td>\n",
       "    </tr>\n",
       "    <tr>\n",
       "      <th>Horror</th>\n",
       "      <td>0</td>\n",
       "      <td>0</td>\n",
       "      <td>0</td>\n",
       "      <td>0</td>\n",
       "    </tr>\n",
       "    <tr>\n",
       "      <th>Music</th>\n",
       "      <td>0</td>\n",
       "      <td>0</td>\n",
       "      <td>0</td>\n",
       "      <td>0</td>\n",
       "    </tr>\n",
       "    <tr>\n",
       "      <th>Mystery</th>\n",
       "      <td>0</td>\n",
       "      <td>0</td>\n",
       "      <td>0</td>\n",
       "      <td>0</td>\n",
       "    </tr>\n",
       "    <tr>\n",
       "      <th>Romance</th>\n",
       "      <td>0</td>\n",
       "      <td>0</td>\n",
       "      <td>0</td>\n",
       "      <td>0</td>\n",
       "    </tr>\n",
       "    <tr>\n",
       "      <th>Science Fiction</th>\n",
       "      <td>0</td>\n",
       "      <td>0</td>\n",
       "      <td>0</td>\n",
       "      <td>0</td>\n",
       "    </tr>\n",
       "    <tr>\n",
       "      <th>Thriller</th>\n",
       "      <td>0</td>\n",
       "      <td>0</td>\n",
       "      <td>0</td>\n",
       "      <td>0</td>\n",
       "    </tr>\n",
       "    <tr>\n",
       "      <th>TV Movie</th>\n",
       "      <td>0</td>\n",
       "      <td>0</td>\n",
       "      <td>0</td>\n",
       "      <td>0</td>\n",
       "    </tr>\n",
       "    <tr>\n",
       "      <th>War</th>\n",
       "      <td>0</td>\n",
       "      <td>0</td>\n",
       "      <td>0</td>\n",
       "      <td>0</td>\n",
       "    </tr>\n",
       "  </tbody>\n",
       "</table>\n",
       "</div>"
      ],
      "text/plain": [
       "                 2008  2009  2010  2011\n",
       "Action              0     0     0     0\n",
       "Adventure           0     0     0     0\n",
       "Animation           0     0     0     0\n",
       "Comedy              0     0     0     0\n",
       "Crime               0     0     0     0\n",
       "Drama               0     0     0     0\n",
       "Documentary         0     0     0     0\n",
       "Family              0     0     0     0\n",
       "Fantasy             0     0     0     0\n",
       "Foreign             0     0     0     0\n",
       "History             0     0     0     0\n",
       "Horror              0     0     0     0\n",
       "Music               0     0     0     0\n",
       "Mystery             0     0     0     0\n",
       "Romance             0     0     0     0\n",
       "Science Fiction     0     0     0     0\n",
       "Thriller            0     0     0     0\n",
       "TV Movie            0     0     0     0\n",
       "War                 0     0     0     0"
      ]
     },
     "execution_count": 1323,
     "metadata": {},
     "output_type": "execute_result"
    }
   ],
   "source": [
    "# Use this, and more code cells, to explore your data. Don't forget to add\n",
    "#   Markdown cells to document your observations and findings.\n",
    "\n",
    "df_genre_popularity = pd.DataFrame([[0, 0, 0, 0], [0, 0, 0, 0], [0, 0, 0, 0], [0, 0, 0, 0], \n",
    "                                    [0, 0, 0, 0], [0, 0, 0, 0], [0, 0, 0, 0], [0, 0, 0, 0], \n",
    "                                    [0, 0, 0, 0], [0, 0, 0, 0], [0, 0, 0, 0], [0, 0, 0, 0], \n",
    "                                    [0, 0, 0, 0], [0, 0, 0, 0], [0, 0, 0, 0], [0, 0, 0, 0], \n",
    "                                    [0, 0, 0, 0], [0, 0, 0, 0], [0, 0, 0, 0]],\n",
    "                                   index = ['Action', 'Adventure', 'Animation', 'Comedy', \n",
    "                                                'Crime', 'Drama', 'Documentary', 'Family', \n",
    "                                               'Fantasy', 'Foreign', 'History', 'Horror', 'Music', \n",
    "                                               'Mystery', 'Romance', 'Science Fiction', 'Thriller', \n",
    "                                               'TV Movie', 'War'],\n",
    "                                  columns=['2008', '2009', '2010', '2011']) \n",
    "# creates dataframe to hold genre types, popularity\n",
    "\n",
    "df_genre_popularity # displays genre popularity dataframe"
   ]
  },
  {
   "cell_type": "markdown",
   "metadata": {},
   "source": [
    "The code in _Cell 1_ creates a new dataframe to hold the total popularity for each genre and initalizes all the dataframe index values to zero. Since the analysis question only requires information about movie popularity from 2008 to 2011, a new dataframe needs to be created to only hold movies released during 2008-2011. The dataframe index values are initialized to zero because data has not been inputted into the dataframe."
   ]
  },
  {
   "cell_type": "markdown",
   "metadata": {},
   "source": [
    "#### **Cell 2:**"
   ]
  },
  {
   "cell_type": "code",
   "execution_count": 1324,
   "metadata": {},
   "outputs": [],
   "source": [
    "# Use this, and more code cells, to explore your data. Don't forget to add\n",
    "#   Markdown cells to document your observations and findings.\n",
    "\n",
    "df_2008 = df[df['release_year'] == 2008] # creates dataframe with movies released in 2008\n",
    "df_2009 = df[df['release_year'] == 2009] # creates dataframe with movies released in 2009\n",
    "df_2010 = df[df['release_year'] == 2010] # creates dataframe with movies released in 2010\n",
    "df_2011 = df[df['release_year'] == 2011] # creates dataframe with movies released in 2011"
   ]
  },
  {
   "cell_type": "markdown",
   "metadata": {},
   "source": [
    "The code in _Cell 2_ creates four dataframes to hold the movies released during 2008-2011 separately. To fill the genre popularity dataframe with the appropriate values, the popularity needs to be distinguished by the year the movie was released and the movie genre. Since there are less years to differentiate the popularity by, four dataframes were created to hold the movies based on the year released from 2008 to 2011.r."
   ]
  },
  {
   "cell_type": "markdown",
   "metadata": {},
   "source": [
    "#### **Cell 3:**"
   ]
  },
  {
   "cell_type": "code",
   "execution_count": 1325,
   "metadata": {},
   "outputs": [],
   "source": [
    "action_genre_2008 = df_2008['genres'].str.contains('Action', regex=False) # checks if \"genres\" column has \"Action\" (\"regex=False\" makes case-insensitive)\n",
    "adventure_genre_2008 = df_2008['genres'].str.contains('Adventure', regex=False) # checks if row has \"Adventure\" genre\n",
    "animation_genre_2008 = df_2008['genres'].str.contains('Animation', regex=False) # checks if row has \"Animation\" genre\n",
    "comedy_genre_2008 = df_2008['genres'].str.contains('Comedy', regex=False) # checks if Value In Column contains \"Comedy\"\n",
    "crime_genre_2008 = df_2008['genres'].str.contains('Crime', regex=False) # checks if Value In Column contains \"Crime\"\n",
    "drama_genre_2008 = df_2008['genres'].str.contains('Drama', regex=False) # checks if row has \"Drama\" (\"regex=False\" makes case-insensitive & MUST INCLUDE .str.)\n",
    "documentary_genre_2008 = df_2008['genres'].str.contains('Documentary', regex=False) # checks if row has \"Documentary\" genre\n",
    "family_genre_2008 = df_2008['genres'].str.contains('Family', regex=False) # checks if Value In Column contains \"Family\"\n",
    "fantasy_genre_2008 = df_2008['genres'].str.contains('Fantasy', regex=False) # checks if Value In Column contains \"Fantasy\"\n",
    "foreign_genre_2008 = df_2008['genres'].str.contains('Foreign', regex=False) # checks if row has \"Foregin\" genre\n",
    "history_genre_2008 = df_2008['genres'].str.contains('History', regex=False) # checks if Value In Column contains \"History\"\n",
    "horror_genre_2008 = df_2008['genres'].str.contains('Horror', regex=False) # checks if Value In Column contains \"Horror\"\n",
    "music_genre_2008 = df_2008['genres'].str.contains('Music', regex=False) # checks if row has \"Music\" genre\n",
    "mystery_genre_2008 = df_2008['genres'].str.contains('Mystery', regex=False) # checks if row contains \"Mystery\"\n",
    "romance_genre_2008 = df_2008['genres'].str.contains('Romance', regex=False) # checks if row has \"Romance\" genre\n",
    "science_fiction_genre_2008 = df_2008['genres'].str.contains('Science Fiction', regex=False) # checks if Value In Column contains \"Science Fiction\"\n",
    "thriller_genre_2008 = df_2008['genres'].str.contains('Thriller', regex=False) # checks if row has \"Thriller\" (\"regex=False\" makes case-insensitive & MUST INCLUDE .str.)\n",
    "TV_movie_genre_2008 = df_2008['genres'].str.contains('TV Movie', regex=False) # checks if row has \"TV Movie\"\n",
    "war_genre_2008 = df_2008['genres'].str.contains('War', regex=False) # checks if row has \"War\" genre"
   ]
  },
  {
   "cell_type": "markdown",
   "metadata": {},
   "source": [
    "The code in _Cell 3_ creates booleans for each genre to determine what genres each movie has for movies released in 2008. These booleans will be used to sort the popularites based on the movie genres for the movies released in 2008.\n"
   ]
  },
  {
   "cell_type": "markdown",
   "metadata": {},
   "source": [
    "#### **Cell 4:**"
   ]
  },
  {
   "cell_type": "code",
   "execution_count": 1326,
   "metadata": {},
   "outputs": [],
   "source": [
    "action_genre_2009 = df_2009['genres'].str.contains('Action', regex=False) # checks if movie has Action\n",
    "adventure_genre_2009 = df_2009['genres'].str.contains('Adventure', regex=False) # checks if movie has Adventure\n",
    "animation_genre_2009 = df_2009['genres'].str.contains('Animation', regex=False) # checks if movie has Animation\n",
    "comedy_genre_2009 = df_2009['genres'].str.contains('Comedy', regex=False) # checks if movie has Comedy\n",
    "crime_genre_2009 = df_2009['genres'].str.contains('Crime', regex=False) # checks if movie has Crime\n",
    "drama_genre_2009 = df_2009['genres'].str.contains('Drama', regex=False) # checks if movie has Drama\n",
    "documentary_genre_2009 = df_2009['genres'].str.contains('Documentary', regex=False) # checks if movie has Documentary\n",
    "family_genre_2009 = df_2009['genres'].str.contains('Family', regex=False) # checks if movie has Family\n",
    "fantasy_genre_2009 = df_2009['genres'].str.contains('Fantasy', regex=False) # checks if movie has Fantasy\n",
    "foreign_genre_2009 = df_2009['genres'].str.contains('Foreign', regex=False) # checks if movie has Foreign\n",
    "history_genre_2009 = df_2009['genres'].str.contains('History', regex=False) # checks if movie has History\n",
    "horror_genre_2009 = df_2009['genres'].str.contains('Horror', regex=False) # checks if movie has Horror\n",
    "music_genre_2009 = df_2009['genres'].str.contains('Music', regex=False) # checks if movie has Music\n",
    "mystery_genre_2009 = df_2009['genres'].str.contains('Mystery', regex=False) # checks if movie has Mystery\n",
    "romance_genre_2009 = df_2009['genres'].str.contains('Romance', regex=False) # checks if movie has Romance\n",
    "science_fiction_genre_2009 = df_2009['genres'].str.contains('Science Fiction', regex=False) # checks if movie has Science Fiction\n",
    "thriller_genre_2009 = df_2009['genres'].str.contains('Thriller', regex=False) # checks if movie has Thriller\n",
    "TV_movie_genre_2009 = df_2009['genres'].str.contains('TV Movie', regex=False) # checks if movie has TV Movie\n",
    "war_genre_2009 = df_2009['genres'].str.contains('War', regex=False) # checks if movie has War"
   ]
  },
  {
   "cell_type": "markdown",
   "metadata": {},
   "source": [
    "The code in _Cell 4_ creates booleans for each genre to determine what genres each movie has for movies released in 2009. These booleans will be used to sort the popularites based on the movie genres for the movies released in 2009."
   ]
  },
  {
   "cell_type": "markdown",
   "metadata": {},
   "source": [
    "#### **Cell 5:**"
   ]
  },
  {
   "cell_type": "code",
   "execution_count": 1327,
   "metadata": {},
   "outputs": [],
   "source": [
    "action_genre_2010 = df_2010['genres'].str.contains('Action', regex=False) # checks if movie has Action\n",
    "adventure_genre_2010 = df_2010['genres'].str.contains('Adventure', regex=False) # checks if movie has Adventure\n",
    "animation_genre_2010 = df_2010['genres'].str.contains('Animation', regex=False) # checks if movie has Animation\n",
    "comedy_genre_2010 = df_2010['genres'].str.contains('Comedy', regex=False) # checks if movie has Comedy\n",
    "crime_genre_2010 = df_2010['genres'].str.contains('Crime', regex=False) # checks if movie has Crime\n",
    "drama_genre_2010 = df_2010['genres'].str.contains('Drama', regex=False) # checks if movie has Drama\n",
    "documentary_genre_2010 = df_2010['genres'].str.contains('Documentary', regex=False) # checks if movie has Documentary\n",
    "family_genre_2010 = df_2010['genres'].str.contains('Family', regex=False) # checks if movie has Family\n",
    "fantasy_genre_2010 = df_2010['genres'].str.contains('Fantasy', regex=False) # checks if movie has Fantasy\n",
    "foreign_genre_2010 = df_2010['genres'].str.contains('Foreign', regex=False) # checks if movie has Foreign\n",
    "history_genre_2010 = df_2010['genres'].str.contains('History', regex=False) # checks if movie has History\n",
    "horror_genre_2010 = df_2010['genres'].str.contains('Horror', regex=False) # checks if movie has Horror\n",
    "music_genre_2010 = df_2010['genres'].str.contains('Music', regex=False) # checks if movie has Music\n",
    "mystery_genre_2010 = df_2010['genres'].str.contains('Mystery', regex=False) # checks if movie has Mystery\n",
    "romance_genre_2010 = df_2010['genres'].str.contains('Romance', regex=False) # checks if movie has Romance\n",
    "science_fiction_genre_2010 = df_2010['genres'].str.contains('Science Fiction', regex=False) # checks if movie has Science Fiction\n",
    "thriller_genre_2010 = df_2010['genres'].str.contains('Thriller', regex=False) # checks if movie has Thriller\n",
    "TV_movie_genre_2010 = df_2010['genres'].str.contains('TV Movie', regex=False) # checks if movie has TV Movie\n",
    "war_genre_2010 = df_2010['genres'].str.contains('War', regex=False) # checks if movie has War"
   ]
  },
  {
   "cell_type": "markdown",
   "metadata": {},
   "source": [
    "The code in _Cell 5_ creates booleans for each genre to determine what genres each movie has for movies released in 2010. These booleans will be used to sort the popularites based on the movie genres for the movies released in 2010."
   ]
  },
  {
   "cell_type": "markdown",
   "metadata": {},
   "source": [
    "#### **Cell 6:**"
   ]
  },
  {
   "cell_type": "code",
   "execution_count": 1328,
   "metadata": {},
   "outputs": [],
   "source": [
    "action_genre_2011 = df_2011['genres'].str.contains('Action', regex=False) # checks if movie has Action\n",
    "adventure_genre_2011 = df_2011['genres'].str.contains('Adventure', regex=False) # checks if movie has Adventure\n",
    "animation_genre_2011 = df_2011['genres'].str.contains('Animation', regex=False) # checks if movie has Animation\n",
    "comedy_genre_2011 = df_2011['genres'].str.contains('Comedy', regex=False) # checks if movie has Comedy\n",
    "crime_genre_2011 = df_2011['genres'].str.contains('Crime', regex=False) # checks if movie has Crime\n",
    "drama_genre_2011 = df_2011['genres'].str.contains('Drama', regex=False) # checks if movie has Drama\n",
    "documentary_genre_2011 = df_2011['genres'].str.contains('Documentary', regex=False) # checks if movie has Documentary\n",
    "family_genre_2011 = df_2011['genres'].str.contains('Family', regex=False) # checks if movie has Family\n",
    "fantasy_genre_2011 = df_2011['genres'].str.contains('Fantasy', regex=False) # checks if movie has Fantasy\n",
    "foreign_genre_2011 = df_2011['genres'].str.contains('Foreign', regex=False) # checks if movie has Foreign\n",
    "history_genre_2011 = df_2011['genres'].str.contains('History', regex=False) # checks if movie has History\n",
    "horror_genre_2011 = df_2011['genres'].str.contains('Horror', regex=False) # checks if movie has Horror\n",
    "music_genre_2011 = df_2011['genres'].str.contains('Music', regex=False) # checks if movie has Music\n",
    "mystery_genre_2011 = df_2011['genres'].str.contains('Mystery', regex=False) # checks if movie has Mystery\n",
    "romance_genre_2011 = df_2011['genres'].str.contains('Romance', regex=False) # checks if movie has Romance\n",
    "science_fiction_genre_2011 = df_2011['genres'].str.contains('Science Fiction', regex=False) # checks if movie has Science Fiction\n",
    "thriller_genre_2011 = df_2011['genres'].str.contains('Thriller', regex=False) # checks if movie has Thriller\n",
    "TV_movie_genre_2011 = df_2011['genres'].str.contains('TV Movie', regex=False) # checks if movie has TV Movie\n",
    "war_genre_2011 = df_2011['genres'].str.contains('War', regex=False) # checks if movie has War"
   ]
  },
  {
   "cell_type": "markdown",
   "metadata": {},
   "source": [
    "The code in _Cell 6_ creates booleans for each genre to determine what genres each movie has for movies released in 2011. These booleans will be used to sort the popularites based on the movie genres for the movies released in 2011."
   ]
  },
  {
   "cell_type": "markdown",
   "metadata": {},
   "source": [
    "#### **Cell 7:**"
   ]
  },
  {
   "cell_type": "code",
   "execution_count": 1329,
   "metadata": {},
   "outputs": [],
   "source": [
    "action_popularity_2008 = df_2008.loc[action_genre_2008==True, 'popularity'] # access Popularity if movie is Action\n",
    "adventure_popularity_2008 = df_2008.loc[adventure_genre_2008==True, 'popularity'] # access Popularity if movie is Adventure\n",
    "animation_popularity_2008 = df_2008.loc[animation_genre_2008==True, 'popularity'] # access Popularity if movie is Animation\n",
    "comedy_popularity_2008 = df_2008.loc[comedy_genre_2008==True, 'popularity'] # access Popularity if movie is Comedy\n",
    "crime_popularity_2008 = df_2008.loc[crime_genre_2008==True, 'popularity'] # access Popularity if movie is Crime\n",
    "drama_popularity_2008 = df_2008.loc[drama_genre_2008==True, 'popularity'] # access Popularity if movie is Drama\n",
    "documentary_popularity_2008 = df_2008.loc[documentary_genre_2008==True, 'popularity'] # access Popularity if movie is Documentary\n",
    "family_popularity_2008 = df_2008.loc[family_genre_2008==True, 'popularity'] # access Popularity if movie is Family\n",
    "fantasy_popularity_2008 = df_2008.loc[fantasy_genre_2008==True, 'popularity'] # accesses Popularity if movie is Fantasy\n",
    "foreign_popularity_2008 = df_2008.loc[foreign_genre_2008==True, 'popularity'] # accesses Popularity if movie is Foreign\n",
    "history_popularity_2008 = df_2008.loc[history_genre_2008==True, 'popularity'] # accesses Popularity if movie is History\n",
    "horror_popularity_2008 = df_2008.loc[horror_genre_2008==True, 'popularity'] # accesses Popularity if movie is Horror\n",
    "music_popularity_2008 = df_2008.loc[music_genre_2008==True, 'popularity'] # accesses Popularity if movie is Music\n",
    "mystery_popularity_2008 = df_2008.loc[mystery_genre_2008==True, 'popularity'] # accesses Popularity if movie is Mystery\n",
    "romance_popularity_2008 = df_2008.loc[romance_genre_2008==True, 'popularity'] # accesses Popularity if movie is Romance\n",
    "science_fiction_popularity_2008 = df_2008.loc[science_fiction_genre_2008==True, 'popularity'] # accesses Popularity if movie is Science Fiction\n",
    "thriller_popularity_2008 = df_2008.loc[thriller_genre_2008==True, 'popularity'] # accesses Popularity if movie is Thriller\n",
    "TV_movie_popularity_2008 = df_2008.loc[TV_movie_genre_2008==True, 'popularity'] # accesses Popularity if movie is TV Movie\n",
    "war_popularity_2008 = df_2008.loc[war_genre_2008==True, 'popularity'] # accesses Popularity if movie is War"
   ]
  },
  {
   "cell_type": "markdown",
   "metadata": {},
   "source": [
    "The code in _Cell 7_ uses the booleans in _Cell 3_ to sort the movie popularities into genre holders. The popularity values need to be sorted according to their genres to determine how much popularity each genre has in 2008."
   ]
  },
  {
   "cell_type": "markdown",
   "metadata": {},
   "source": [
    "#### **Cell 8:**"
   ]
  },
  {
   "cell_type": "code",
   "execution_count": 1330,
   "metadata": {},
   "outputs": [],
   "source": [
    "action_popularity_2009 = df_2009.loc[action_genre_2009==True, 'popularity'] # access Popularity if movie is Action\n",
    "adventure_popularity_2009 = df_2009.loc[adventure_genre_2009==True, 'popularity'] # access Popularity if movie is Adventure\n",
    "animation_popularity_2009 = df_2009.loc[animation_genre_2009==True, 'popularity'] # access Popularity if movie is Animation\n",
    "comedy_popularity_2009 = df_2009.loc[comedy_genre_2009==True, 'popularity'] # access Popularity if movie is Comedy\n",
    "crime_popularity_2009 = df_2009.loc[crime_genre_2009==True, 'popularity'] # access Popularity if movie is Crime\n",
    "drama_popularity_2009 = df_2009.loc[drama_genre_2009==True, 'popularity'] # access Popularity if movie is Drama\n",
    "documentary_popularity_2009 = df_2009.loc[documentary_genre_2009==True, 'popularity'] # access Popularity if movie is Documentary\n",
    "family_popularity_2009 = df_2009.loc[family_genre_2009==True, 'popularity'] # access Popularity if movie is Family\n",
    "fantasy_popularity_2009 = df_2009.loc[fantasy_genre_2009==True, 'popularity'] # accesses Popularity if movie is Fantasy\n",
    "foreign_popularity_2009 = df_2009.loc[foreign_genre_2009==True, 'popularity'] # accesses Popularity if movie is Foreign\n",
    "history_popularity_2009 = df_2009.loc[history_genre_2009==True, 'popularity'] # accesses Popularity if movie is History\n",
    "horror_popularity_2009 = df_2009.loc[horror_genre_2009==True, 'popularity'] # accesses Popularity if movie is Horror\n",
    "music_popularity_2009 = df_2009.loc[music_genre_2009==True, 'popularity'] # accesses Popularity if movie is Music\n",
    "mystery_popularity_2009 = df_2009.loc[mystery_genre_2009==True, 'popularity'] # accesses Popularity if movie is Mystery\n",
    "romance_popularity_2009 = df_2009.loc[romance_genre_2009==True, 'popularity'] # accesses Popularity if movie is Romance\n",
    "science_fiction_popularity_2009 = df_2009.loc[science_fiction_genre_2009==True, 'popularity'] # accesses Popularity if movie is Science Fiction\n",
    "thriller_popularity_2009 = df_2009.loc[thriller_genre_2009==True, 'popularity'] # accesses Popularity if movie is Thriller\n",
    "TV_movie_popularity_2009 = df_2009.loc[TV_movie_genre_2009==True, 'popularity'] # accesses Popularity if movie is TV Movie\n",
    "war_popularity_2009 = df_2009.loc[war_genre_2009==True, 'popularity'] # accesses Popularity if movie is War"
   ]
  },
  {
   "cell_type": "markdown",
   "metadata": {},
   "source": [
    "The code in _Cell 8_ uses the booleans in _Cell 4_ to sort the movie popularities into genre holders. The popularity values need to be sorted according to their genres to determine how much popularity each genre has in 2009."
   ]
  },
  {
   "cell_type": "markdown",
   "metadata": {},
   "source": [
    "#### **Cell 9:**"
   ]
  },
  {
   "cell_type": "code",
   "execution_count": 1331,
   "metadata": {},
   "outputs": [],
   "source": [
    "action_popularity_2010 = df_2010.loc[action_genre_2010==True, 'popularity'] # access Popularity if movie is Action\n",
    "adventure_popularity_2010 = df_2010.loc[adventure_genre_2010==True, 'popularity'] # access Popularity if movie is Adventure\n",
    "animation_popularity_2010 = df_2010.loc[animation_genre_2010==True, 'popularity'] # access Popularity if movie is Animation\n",
    "comedy_popularity_2010 = df_2010.loc[comedy_genre_2010==True, 'popularity'] # access Popularity if movie is Comedy\n",
    "crime_popularity_2010 = df_2010.loc[crime_genre_2010==True, 'popularity'] # access Popularity if movie is Crime\n",
    "drama_popularity_2010 = df_2010.loc[drama_genre_2010==True, 'popularity'] # access Popularity if movie is Drama\n",
    "documentary_popularity_2010 = df_2010.loc[documentary_genre_2010==True, 'popularity'] # access Popularity if movie is Documentary\n",
    "family_popularity_2010 = df_2010.loc[family_genre_2010==True, 'popularity'] # access Popularity if movie is Family\n",
    "fantasy_popularity_2010 = df_2010.loc[fantasy_genre_2010==True, 'popularity'] # accesses Popularity if movie is Fantasy\n",
    "foreign_popularity_2010 = df_2010.loc[foreign_genre_2010==True, 'popularity'] # accesses Popularity if movie is Foreign\n",
    "history_popularity_2010 = df_2010.loc[history_genre_2010==True, 'popularity'] # accesses Popularity if movie is History\n",
    "horror_popularity_2010 = df_2010.loc[horror_genre_2010==True, 'popularity'] # accesses Popularity if movie is Horror\n",
    "music_popularity_2010 = df_2010.loc[music_genre_2010==True, 'popularity'] # accesses Popularity if movie is Music\n",
    "mystery_popularity_2010 = df_2010.loc[mystery_genre_2010==True, 'popularity'] # accesses Popularity if movie is Mystery\n",
    "romance_popularity_2010 = df_2010.loc[romance_genre_2010==True, 'popularity'] # accesses Popularity if movie is Romance\n",
    "science_fiction_popularity_2010 = df_2010.loc[science_fiction_genre_2010==True, 'popularity'] # accesses Popularity if movie is Science Fiction\n",
    "thriller_popularity_2010 = df_2010.loc[thriller_genre_2010==True, 'popularity'] # accesses Popularity if movie is Thriller\n",
    "TV_movie_popularity_2010 = df_2010.loc[TV_movie_genre_2010==True, 'popularity'] # accesses Popularity if movie is TV Movie\n",
    "war_popularity_2010 = df_2010.loc[war_genre_2010==True, 'popularity'] # accesses Popularity if movie is War"
   ]
  },
  {
   "cell_type": "markdown",
   "metadata": {},
   "source": [
    "The code in _Cell 9_ uses the booleans in _Cell 5_ to sort the movie popularities into genre holders. The popularity values need to be sorted according to their genres to determine how much popularity each genre has in 2010."
   ]
  },
  {
   "cell_type": "markdown",
   "metadata": {},
   "source": [
    "#### **Cell 10:**"
   ]
  },
  {
   "cell_type": "code",
   "execution_count": 1332,
   "metadata": {},
   "outputs": [],
   "source": [
    "action_popularity_2011 = df_2011.loc[action_genre_2011==True, 'popularity'] # access Popularity if movie is Action\n",
    "adventure_popularity_2011 = df_2011.loc[adventure_genre_2011==True, 'popularity'] # access Popularity if movie is Adventure\n",
    "animation_popularity_2011 = df_2011.loc[animation_genre_2011==True, 'popularity'] # access Popularity if movie is Animation\n",
    "comedy_popularity_2011 = df_2011.loc[comedy_genre_2011==True, 'popularity'] # access Popularity if movie is Comedy\n",
    "crime_popularity_2011 = df_2011.loc[crime_genre_2011==True, 'popularity'] # access Popularity if movie is Crime\n",
    "drama_popularity_2011 = df_2011.loc[drama_genre_2011==True, 'popularity'] # access Popularity if movie is Drama\n",
    "documentary_popularity_2011 = df_2011.loc[documentary_genre_2011==True, 'popularity'] # access Popularity if movie is Documentary\n",
    "family_popularity_2011 = df_2011.loc[family_genre_2011==True, 'popularity'] # access Popularity if movie is Family\n",
    "fantasy_popularity_2011 = df_2011.loc[fantasy_genre_2011==True, 'popularity'] # accesses Popularity if movie is Fantasy\n",
    "foreign_popularity_2011 = df_2011.loc[foreign_genre_2011==True, 'popularity'] # accesses Popularity if movie is Foreign\n",
    "history_popularity_2011 = df_2011.loc[history_genre_2011==True, 'popularity'] # accesses Popularity if movie is History\n",
    "horror_popularity_2011 = df_2011.loc[horror_genre_2011==True, 'popularity'] # accesses Popularity if movie is Horror\n",
    "music_popularity_2011 = df_2011.loc[music_genre_2011==True, 'popularity'] # accesses Popularity if movie is Music\n",
    "mystery_popularity_2011 = df_2011.loc[mystery_genre_2011==True, 'popularity'] # accesses Popularity if movie is Mystery\n",
    "romance_popularity_2011 = df_2011.loc[romance_genre_2011==True, 'popularity'] # accesses Popularity if movie is Romance\n",
    "science_fiction_popularity_2011 = df_2011.loc[science_fiction_genre_2011==True, 'popularity'] # accesses Popularity if movie is Science Fiction\n",
    "thriller_popularity_2011 = df_2011.loc[thriller_genre_2011==True, 'popularity'] # accesses Popularity if movie is Thriller\n",
    "TV_movie_popularity_2011 = df_2011.loc[TV_movie_genre_2011==True, 'popularity'] # accesses Popularity if movie is TV Movie\n",
    "war_popularity_2011 = df_2011.loc[war_genre_2011==True, 'popularity'] # accesses Popularity if movie is War"
   ]
  },
  {
   "cell_type": "markdown",
   "metadata": {},
   "source": [
    "The code in _Cell 10_ uses the booleans in _Cell 6_ to sort the movie popularities into genre holders. The popularity values need to be sorted according to their genres to determine how much popularity each genre has in 2011."
   ]
  },
  {
   "cell_type": "markdown",
   "metadata": {},
   "source": [
    "#### **Cell 11:**"
   ]
  },
  {
   "cell_type": "code",
   "execution_count": 1333,
   "metadata": {},
   "outputs": [],
   "source": [
    "def genre_popularity_sum(genre_popularity_Series_holder, index_num, col_year): # Function for finding sum of genre popularity\n",
    "    index_names = ['Action', 'Adventure', 'Animation', 'Comedy', 'Crime', 'Drama', 'Documentary', 'Family', 'Fantasy', 'Foreign', 'History', 'Horror', 'Music', 'Mystery', 'Romance', 'Science Fiction', 'Thriller', \n",
    "                   'TV Movie', 'War'] # Series to hold \"df_genre_popularity\" index names (MUST USE THIS TO PREVENT ERROR FROM OCCURING)\n",
    "    df_genre_popularity.loc[index_names[index_num], col_year] = genre_popularity_Series_holder.sum() # finds sum for genre popularity & inserts sum into genre popularity dataframe"
   ]
  },
  {
   "cell_type": "markdown",
   "metadata": {},
   "source": [
    "The code in _Cell 11_ holds the function definition called **genre_popularity_sum**. The function finds the sum of popularity for each genre and puts them into the genre dataframe called **df_genre_popularity**. Since each genre popularity found in _Cell 7_ is held in array form, they cannot be added to the appropiate index in the genre dataframe without causing an error. Therefore, the sum of popularity for each genre must be found first in order to add the genre popularities to the appropiate index without causing an error."
   ]
  },
  {
   "cell_type": "markdown",
   "metadata": {},
   "source": [
    "#### **Cell 12:**"
   ]
  },
  {
   "cell_type": "code",
   "execution_count": 1334,
   "metadata": {},
   "outputs": [],
   "source": [
    "df_genre_popularity_2008_Series_values = pd.DataFrame({'Genre Popularity Series Values' : [action_popularity_2008, adventure_popularity_2008, animation_popularity_2008, comedy_popularity_2008, crime_popularity_2008, \n",
    "                                                                                           drama_popularity_2008, documentary_popularity_2008, family_popularity_2008, fantasy_popularity_2008, foreign_popularity_2008, \n",
    "                                                                                           history_popularity_2008, horror_popularity_2008, music_popularity_2008, mystery_popularity_2008, romance_popularity_2008, \n",
    "                                                                                           science_fiction_popularity_2008, thriller_popularity_2008, TV_movie_popularity_2008, \n",
    "                                                                                           war_popularity_2008]}) # creates dataframe to hold each genre popularity in the form of series values\n",
    "df_genre_popularity_2009_Series_values = pd.DataFrame({'Genre Popularity Series Values' : [action_popularity_2009, adventure_popularity_2009, animation_popularity_2009, comedy_popularity_2009, crime_popularity_2009, \n",
    "                                                                                           drama_popularity_2009, documentary_popularity_2009, family_popularity_2009, fantasy_popularity_2009, foreign_popularity_2009, \n",
    "                                                                                           history_popularity_2009, horror_popularity_2009, music_popularity_2009, mystery_popularity_2009, romance_popularity_2009, \n",
    "                                                                                           science_fiction_popularity_2009, thriller_popularity_2009, TV_movie_popularity_2009, \n",
    "                                                                                           war_popularity_2009]}) # creates dataframe to hold each genre popularity in the form of series values\n",
    "df_genre_popularity_2010_Series_values = pd.DataFrame({'Genre Popularity Series Values' : [action_popularity_2010, adventure_popularity_2010, animation_popularity_2010, comedy_popularity_2010, crime_popularity_2010, \n",
    "                                                                                           drama_popularity_2010, documentary_popularity_2010, family_popularity_2010, fantasy_popularity_2010, foreign_popularity_2010, \n",
    "                                                                                           history_popularity_2010, horror_popularity_2010, music_popularity_2010, mystery_popularity_2010, romance_popularity_2010, \n",
    "                                                                                           science_fiction_popularity_2010, thriller_popularity_2010, TV_movie_popularity_2010, \n",
    "                                                                                           war_popularity_2010]}) # creates dataframe to hold each genre popularity in the form of series values\n",
    "df_genre_popularity_2011_Series_values = pd.DataFrame({'Genre Popularity Series Values' : [action_popularity_2011, adventure_popularity_2011, animation_popularity_2011, comedy_popularity_2011, crime_popularity_2011, \n",
    "                                                                                           drama_popularity_2011, documentary_popularity_2011, family_popularity_2011, fantasy_popularity_2011, foreign_popularity_2011, \n",
    "                                                                                           history_popularity_2011, horror_popularity_2011, music_popularity_2011, mystery_popularity_2011, romance_popularity_2011, \n",
    "                                                                                           science_fiction_popularity_2011, thriller_popularity_2011, TV_movie_popularity_2011, \n",
    "                                                                                           war_popularity_2011]}) # creates dataframe to hold each genre popularity in the form of series values"
   ]
  },
  {
   "cell_type": "markdown",
   "metadata": {},
   "source": [
    "The code in _Cell 12_ holds four dataframes that contain the sums of each genre popularity in the form of array values. The dataframes separate all of the genre popularities based on the movie release year. These dataframes will hold the popularity sums of each genre from 2008 to 2011 to reduce the amount of code needed when finding the sums of popularity for each genre from 2008 to 2011."
   ]
  },
  {
   "cell_type": "markdown",
   "metadata": {},
   "source": [
    "#### **Cell 13:**"
   ]
  },
  {
   "cell_type": "code",
   "execution_count": 1336,
   "metadata": {},
   "outputs": [],
   "source": [
    "index_genre_num = 0 # initalizes 'index_for_main_df' to \"0\" (MUST USE THIS ---> using for loop will add One genre sum to ENTIRE column)\n",
    "\n",
    "for index, row in df_genre_popularity_2008_Series_values.iterrows():\n",
    "    column_main_df_year = '2008' # initalizes 'column_year_for_main_df' to \"2008\"\n",
    "    genre_popularity_sum(row['Genre Popularity Series Values'], index_genre_num, column_main_df_year) # calls 'genre_popularity_sum' function\n",
    "    index_genre_num += 1 # used to iterate through 'df_genre_popularity' when inserting total sum values (MUST USE THIS ---> using for loop will add One genre sum to ENTIRE column)\n",
    "\n",
    "index_genre_num = 0 # initalizes 'index_for_main_df' to \"0\" (MUST USE THIS ---> using for loop will add One genre sum to ENTIRE column)\n",
    "\n",
    "for index, row in df_genre_popularity_2009_Series_values.iterrows():\n",
    "    column_main_df_year = '2009' # initalizes 'column_year_for_main_df' to \"2009\"\n",
    "    genre_popularity_sum(row['Genre Popularity Series Values'], index_genre_num, column_main_df_year) # calls 'genre_popularity_sum' function\n",
    "    index_genre_num += 1 # used to iterate through 'df_genre_popularity' when inserting total sum values (MUST USE THIS ---> using for loop will add One genre sum to ENTIRE column)\n",
    "\n",
    "index_genre_num = 0 # initalizes 'index_for_main_df' to \"0\" (MUST USE THIS ---> using for loop will add One genre sum to ENTIRE column)\n",
    "\n",
    "for index, row in df_genre_popularity_2010_Series_values.iterrows():\n",
    "    column_main_df_year = '2010' # initalizes 'column_year_for_main_df' to \"2010\"\n",
    "    genre_popularity_sum(row['Genre Popularity Series Values'], index_genre_num, column_main_df_year) # calls 'genre_popularity_sum' function\n",
    "    index_genre_num += 1 # used to iterate through 'df_genre_popularity' when inserting total sum values (MUST USE THIS ---> using for loop will add One genre sum to ENTIRE column)\n",
    "    \n",
    "index_genre_num = 0 # initalizes 'index_for_main_df' to \"0\" (MUST USE THIS ---> using for loop will add One genre sum to ENTIRE column)\n",
    "\n",
    "for index, row in df_genre_popularity_2011_Series_values.iterrows():\n",
    "    column_main_df_year = '2011' # initalizes 'column_year_for_main_df' to \"2011\"\n",
    "    genre_popularity_sum(row['Genre Popularity Series Values'], index_genre_num, column_main_df_year) # calls 'genre_popularity_sum' function\n",
    "    index_genre_num += 1 # used to iterate through 'df_genre_popularity' when inserting total sum values (MUST USE THIS ---> using for loop will add One genre sum to ENTIRE column)"
   ]
  },
  {
   "cell_type": "markdown",
   "metadata": {},
   "source": [
    "The code in _Cell 13_ uses four for loops to call the function, **_genre_popularity_sum_**, to find the \n",
    "sum of popularity for each genre and put each sum into the genre dataframe called\r\n",
    "**_df_genre_popularity_**. Since each genre popularities fou in _Cell 7_n , _Cell 8__Cell 9_, and _Cell 10_ are re held in array form, thy \r\n",
    "cannot be added to the appropiate index in the genre dataframe without causing an error. Therefore, the \r\n",
    "sum of popularity for each genre must be found first in order to add the genre popularities tothe \r\n",
    "appropiate index without causing an error."
   ]
  },
  {
   "cell_type": "markdown",
   "metadata": {},
   "source": [
    "#### **Cell 14:**"
   ]
  },
  {
   "cell_type": "code",
   "execution_count": 1337,
   "metadata": {},
   "outputs": [
    {
     "data": {
      "text/html": [
       "<div>\n",
       "<style scoped>\n",
       "    .dataframe tbody tr th:only-of-type {\n",
       "        vertical-align: middle;\n",
       "    }\n",
       "\n",
       "    .dataframe tbody tr th {\n",
       "        vertical-align: top;\n",
       "    }\n",
       "\n",
       "    .dataframe thead th {\n",
       "        text-align: right;\n",
       "    }\n",
       "</style>\n",
       "<table border=\"1\" class=\"dataframe\">\n",
       "  <thead>\n",
       "    <tr style=\"text-align: right;\">\n",
       "      <th></th>\n",
       "      <th>2008</th>\n",
       "      <th>2009</th>\n",
       "      <th>2010</th>\n",
       "      <th>2011</th>\n",
       "    </tr>\n",
       "  </thead>\n",
       "  <tbody>\n",
       "    <tr>\n",
       "      <th>Action</th>\n",
       "      <td>88.585296</td>\n",
       "      <td>93.794086</td>\n",
       "      <td>100.713037</td>\n",
       "      <td>121.681073</td>\n",
       "    </tr>\n",
       "    <tr>\n",
       "      <th>Adventure</th>\n",
       "      <td>63.528230</td>\n",
       "      <td>81.966362</td>\n",
       "      <td>80.258813</td>\n",
       "      <td>70.028286</td>\n",
       "    </tr>\n",
       "    <tr>\n",
       "      <th>Animation</th>\n",
       "      <td>28.397969</td>\n",
       "      <td>39.754622</td>\n",
       "      <td>34.745996</td>\n",
       "      <td>44.387170</td>\n",
       "    </tr>\n",
       "    <tr>\n",
       "      <th>Comedy</th>\n",
       "      <td>86.858673</td>\n",
       "      <td>111.045444</td>\n",
       "      <td>99.039863</td>\n",
       "      <td>115.304366</td>\n",
       "    </tr>\n",
       "    <tr>\n",
       "      <th>Crime</th>\n",
       "      <td>47.708682</td>\n",
       "      <td>28.100370</td>\n",
       "      <td>35.293322</td>\n",
       "      <td>42.801786</td>\n",
       "    </tr>\n",
       "    <tr>\n",
       "      <th>Drama</th>\n",
       "      <td>123.854529</td>\n",
       "      <td>126.897208</td>\n",
       "      <td>123.715224</td>\n",
       "      <td>128.088313</td>\n",
       "    </tr>\n",
       "    <tr>\n",
       "      <th>Documentary</th>\n",
       "      <td>4.423501</td>\n",
       "      <td>5.222750</td>\n",
       "      <td>7.878228</td>\n",
       "      <td>9.250019</td>\n",
       "    </tr>\n",
       "    <tr>\n",
       "      <th>Family</th>\n",
       "      <td>44.220459</td>\n",
       "      <td>49.350055</td>\n",
       "      <td>53.233292</td>\n",
       "      <td>55.893736</td>\n",
       "    </tr>\n",
       "    <tr>\n",
       "      <th>Fantasy</th>\n",
       "      <td>37.681697</td>\n",
       "      <td>50.608117</td>\n",
       "      <td>46.964090</td>\n",
       "      <td>46.534893</td>\n",
       "    </tr>\n",
       "    <tr>\n",
       "      <th>Foreign</th>\n",
       "      <td>3.780533</td>\n",
       "      <td>3.768824</td>\n",
       "      <td>2.570107</td>\n",
       "      <td>1.819813</td>\n",
       "    </tr>\n",
       "    <tr>\n",
       "      <th>History</th>\n",
       "      <td>10.829489</td>\n",
       "      <td>8.158467</td>\n",
       "      <td>7.377032</td>\n",
       "      <td>2.473334</td>\n",
       "    </tr>\n",
       "    <tr>\n",
       "      <th>Horror</th>\n",
       "      <td>24.482351</td>\n",
       "      <td>39.776168</td>\n",
       "      <td>32.753184</td>\n",
       "      <td>40.690885</td>\n",
       "    </tr>\n",
       "    <tr>\n",
       "      <th>Music</th>\n",
       "      <td>8.271187</td>\n",
       "      <td>8.616067</td>\n",
       "      <td>3.806288</td>\n",
       "      <td>6.768360</td>\n",
       "    </tr>\n",
       "    <tr>\n",
       "      <th>Mystery</th>\n",
       "      <td>17.796434</td>\n",
       "      <td>31.375811</td>\n",
       "      <td>35.506099</td>\n",
       "      <td>32.673002</td>\n",
       "    </tr>\n",
       "    <tr>\n",
       "      <th>Romance</th>\n",
       "      <td>54.586724</td>\n",
       "      <td>50.982405</td>\n",
       "      <td>53.865920</td>\n",
       "      <td>50.677041</td>\n",
       "    </tr>\n",
       "    <tr>\n",
       "      <th>Science Fiction</th>\n",
       "      <td>40.234346</td>\n",
       "      <td>70.260241</td>\n",
       "      <td>37.820094</td>\n",
       "      <td>54.259455</td>\n",
       "    </tr>\n",
       "    <tr>\n",
       "      <th>Thriller</th>\n",
       "      <td>86.206629</td>\n",
       "      <td>102.665018</td>\n",
       "      <td>99.989104</td>\n",
       "      <td>116.041838</td>\n",
       "    </tr>\n",
       "    <tr>\n",
       "      <th>TV Movie</th>\n",
       "      <td>1.262595</td>\n",
       "      <td>2.439304</td>\n",
       "      <td>2.846349</td>\n",
       "      <td>4.112818</td>\n",
       "    </tr>\n",
       "    <tr>\n",
       "      <th>War</th>\n",
       "      <td>11.372959</td>\n",
       "      <td>10.702770</td>\n",
       "      <td>4.541660</td>\n",
       "      <td>4.731528</td>\n",
       "    </tr>\n",
       "  </tbody>\n",
       "</table>\n",
       "</div>"
      ],
      "text/plain": [
       "                       2008        2009        2010        2011\n",
       "Action            88.585296   93.794086  100.713037  121.681073\n",
       "Adventure         63.528230   81.966362   80.258813   70.028286\n",
       "Animation         28.397969   39.754622   34.745996   44.387170\n",
       "Comedy            86.858673  111.045444   99.039863  115.304366\n",
       "Crime             47.708682   28.100370   35.293322   42.801786\n",
       "Drama            123.854529  126.897208  123.715224  128.088313\n",
       "Documentary        4.423501    5.222750    7.878228    9.250019\n",
       "Family            44.220459   49.350055   53.233292   55.893736\n",
       "Fantasy           37.681697   50.608117   46.964090   46.534893\n",
       "Foreign            3.780533    3.768824    2.570107    1.819813\n",
       "History           10.829489    8.158467    7.377032    2.473334\n",
       "Horror            24.482351   39.776168   32.753184   40.690885\n",
       "Music              8.271187    8.616067    3.806288    6.768360\n",
       "Mystery           17.796434   31.375811   35.506099   32.673002\n",
       "Romance           54.586724   50.982405   53.865920   50.677041\n",
       "Science Fiction   40.234346   70.260241   37.820094   54.259455\n",
       "Thriller          86.206629  102.665018   99.989104  116.041838\n",
       "TV Movie           1.262595    2.439304    2.846349    4.112818\n",
       "War               11.372959   10.702770    4.541660    4.731528"
      ]
     },
     "execution_count": 1337,
     "metadata": {},
     "output_type": "execute_result"
    }
   ],
   "source": [
    "df_genre_popularity # displays genre popularity dataframe"
   ]
  },
  {
   "cell_type": "markdown",
   "metadata": {},
   "source": [
    "The code in _Cell 14_ displays the genre popularity dataframe after the genre popularity values have been added. The data in the genre popularity dataframe will be graphed in the next cell to show which genres were the most popular from 2008-2011."
   ]
  },
  {
   "cell_type": "markdown",
   "metadata": {},
   "source": [
    "#### **Cell 15:**"
   ]
  },
  {
   "cell_type": "code",
   "execution_count": 1338,
   "metadata": {},
   "outputs": [
    {
     "data": {
      "text/plain": [
       "Text(0.5, 1.0, 'Genre Popularity from 2008-2011')"
      ]
     },
     "execution_count": 1338,
     "metadata": {},
     "output_type": "execute_result"
    },
    {
     "data": {
      "image/png": "[encoded data removed]",
      "text/plain": [
       "<Figure size 1000x1000 with 1 Axes>"
      ]
     },
     "metadata": {},
     "output_type": "display_data"
    }
   ],
   "source": [
    "df_genre_popularity.plot.bar(rot=90, figsize=(10,10)) # creates & displays bar graph for \"df_genre_popularity\" (\"rot=90\" ensures x-axis label is vertical, so labels can be read)\n",
    "plt.xlabel('Genres') # adds x-axis label to bar graph\n",
    "plt.ylabel('Popularity') # adds y-axis label to bar graph\n",
    "plt.title('Genre Popularity from 2008-2011') # adds title to bar graph"
   ]
  },
  {
   "cell_type": "markdown",
   "metadata": {},
   "source": [
    "The code in _Code 15_ plots the popularity of movie genres from 2008 to 2011. The bar graph shows which genres were the most popular from 2008 to 2011. The result shows that the most popular genres during 2008, 2009, 2010, and 2011 were **_Action_**, **_Comedy_**, **_Drama_**, and **_Thriller_**."
   ]
  },
  {
   "cell_type": "code",
   "execution_count": null,
   "metadata": {},
   "outputs": [],
   "source": []
  },
  {
   "cell_type": "markdown",
   "metadata": {},
   "source": [
    "11."
   ]
  },
  {
   "cell_type": "markdown",
   "metadata": {},
   "source": [
    "#### **Cell 17:**"
   ]
  },
  {
   "cell_type": "code",
   "execution_count": null,
   "metadata": {},
   "outputs": [],
   "source": []
  },
  {
   "cell_type": "markdown",
   "metadata": {},
   "source": []
  },
  {
   "cell_type": "markdown",
   "metadata": {},
   "source": [
    "#### **Cell 20:**"
   ]
  },
  {
   "cell_type": "code",
   "execution_count": null,
   "metadata": {},
   "outputs": [],
   "source": []
  },
  {
   "cell_type": "markdown",
   "metadata": {},
   "source": []
  },
  {
   "cell_type": "markdown",
   "metadata": {},
   "source": [
    "#### **TEMPORARY PLACE FOR UNNECESSARY**"
   ]
  },
  {
   "cell_type": "code",
   "execution_count": 1339,
   "metadata": {},
   "outputs": [
    {
     "data": {
      "image/png": "[encoded data removed]",
      "text/plain": [
       "<Figure size 640x480 with 1 Axes>"
      ]
     },
     "metadata": {},
     "output_type": "display_data"
    }
   ],
   "source": [
    "ind = df['release_year'].value_counts().index # [2008, 2009, 2010, 2011]\n",
    "df['release_year'].value_counts()[ind].plot(kind='bar');"
   ]
  },
  {
   "cell_type": "markdown",
   "metadata": {},
   "source": [
    "Plots movie genres released during 2008, 2009, 2010, and 2011\n",
    "\n"
   ]
  },
  {
   "cell_type": "markdown",
   "metadata": {},
   "source": [
    "### Which actor played in the most movies released in 2015: Tom Cruise, Dylan O'Brien, Emma Watson, or Jennifer Lawrence?"
   ]
  },
  {
   "cell_type": "markdown",
   "metadata": {},
   "source": [
    "#### **Cell 1:**"
   ]
  },
  {
   "cell_type": "code",
   "execution_count": 1349,
   "metadata": {
    "tags": []
   },
   "outputs": [],
   "source": [
    "# Continue to explore the data to address your additional research\n",
    "#   questions. Add more headers as needed if you have more questions to\n",
    "#   investigate.\n",
    "df_2015 = df[df['release_year'] == 2015] # creates dataframe with movies released in 2008"
   ]
  },
  {
   "cell_type": "markdown",
   "metadata": {},
   "source": [
    "The code in _Cell 1_ creates a new dataframe that holds only movies released in 2015. Since the analysis question asks for movies released in 2015, this will limit the search of movies within 2015."
   ]
  },
  {
   "cell_type": "markdown",
   "metadata": {},
   "source": [
    "#### **Cell 2:**"
   ]
  },
  {
   "cell_type": "code",
   "execution_count": 1350,
   "metadata": {},
   "outputs": [],
   "source": [
    "# Continue to explore the data to address your additional research\n",
    "#   questions. Add more headers as needed if you have more questions to\n",
    "#   investigate.\n",
    "\n",
    "TC_cast = df_2015['cast'].str.contains('Tom Cruise') # checks if \"cast\" holds 'Tom Cruise'\n",
    "DB_cast = df_2015['cast'].str.contains(\"Dylan O'Brien\") # checks if \"cast\" holds \"Dylan O'Brien\"\n",
    "EW_cast = df_2015['cast'].str.contains('Emma Watson') # checks if \"cast\" holds 'Emma Watson'\n",
    "JL_cast = df_2015['cast'].str.contains('Jennifer Lawrence') # checks if \"cast\" holds 'Jennifer Lawrence'"
   ]
  },
  {
   "cell_type": "markdown",
   "metadata": {},
   "source": [
    "The code in the cell above searches the _cast_ column for the names of the four actors: **Tom Cruise**, **Dylan O'Brien**, **Emma Watson**, and **Jennifer Lawrence**. The analysis question requires information pertaining to the four actors and the movies they starred in. Therefore, the code is used to find what movies the four actors starred in by checking if four actors are in the _cast_ column of each movie."
   ]
  },
  {
   "cell_type": "markdown",
   "metadata": {},
   "source": [
    "#### **Cell 3:**"
   ]
  },
  {
   "cell_type": "code",
   "execution_count": 1351,
   "metadata": {},
   "outputs": [],
   "source": [
    "TC_movies = TC_cast.sum() # finds movie amount \"Tom Cruise\" played in\n",
    "DB_movies = DB_cast.sum() # find movie amount \"Dylan O'Brien\" played in\n",
    "EW_movies = EW_cast.sum() # finds movie amount \"Emma Watson\" played in\n",
    "JL_movies = JL_cast.sum() # finds movie amount \"Jennifer Lawrence\" played in"
   ]
  },
  {
   "cell_type": "markdown",
   "metadata": {},
   "source": [
    "The code in _Cell 3_ finds the amount of movies each actor played in. In order to solve the question, the amount of movies each actor played in must be acquired first."
   ]
  },
  {
   "cell_type": "markdown",
   "metadata": {},
   "source": [
    "#### **Cell 4:**"
   ]
  },
  {
   "cell_type": "code",
   "execution_count": 1359,
   "metadata": {
    "tags": []
   },
   "outputs": [
    {
     "data": {
      "text/html": [
       "<div>\n",
       "<style scoped>\n",
       "    .dataframe tbody tr th:only-of-type {\n",
       "        vertical-align: middle;\n",
       "    }\n",
       "\n",
       "    .dataframe tbody tr th {\n",
       "        vertical-align: top;\n",
       "    }\n",
       "\n",
       "    .dataframe thead th {\n",
       "        text-align: right;\n",
       "    }\n",
       "</style>\n",
       "<table border=\"1\" class=\"dataframe\">\n",
       "  <thead>\n",
       "    <tr style=\"text-align: right;\">\n",
       "      <th></th>\n",
       "      <th>Actors</th>\n",
       "      <th>movies</th>\n",
       "    </tr>\n",
       "  </thead>\n",
       "  <tbody>\n",
       "    <tr>\n",
       "      <th>Tom Cruise</th>\n",
       "      <td>Tom Cruise</td>\n",
       "      <td>1</td>\n",
       "    </tr>\n",
       "    <tr>\n",
       "      <th>Dylan O'Brien</th>\n",
       "      <td>Dylan O'Brien</td>\n",
       "      <td>1</td>\n",
       "    </tr>\n",
       "    <tr>\n",
       "      <th>Emma Watson</th>\n",
       "      <td>Emma Watson</td>\n",
       "      <td>1</td>\n",
       "    </tr>\n",
       "    <tr>\n",
       "      <th>Jennifer Lawrence</th>\n",
       "      <td>Jennifer Lawrence</td>\n",
       "      <td>3</td>\n",
       "    </tr>\n",
       "  </tbody>\n",
       "</table>\n",
       "</div>"
      ],
      "text/plain": [
       "                              Actors  movies\n",
       "Tom Cruise                Tom Cruise       1\n",
       "Dylan O'Brien          Dylan O'Brien       1\n",
       "Emma Watson              Emma Watson       1\n",
       "Jennifer Lawrence  Jennifer Lawrence       3"
      ]
     },
     "execution_count": 1359,
     "metadata": {},
     "output_type": "execute_result"
    }
   ],
   "source": [
    "df_movie_and_actors = pd.DataFrame({'Actors' : ['Tom Cruise', \"Dylan O'Brien\", 'Emma Watson', 'Jennifer Lawrence'], \n",
    "                                    'movies' : [TC_movies, DB_movies, EW_movies, JL_movies]},\n",
    "                                      index=['Tom Cruise', \"Dylan O'Brien\", 'Emma Watson', 'Jennifer Lawrence']) # creates new dataframe to hold actors & movie amounts\n",
    "df_movie_and_actors # displays actor and movie amount dataframe"
   ]
  },
  {
   "cell_type": "markdown",
   "metadata": {},
   "source": [
    "The code in _Cell 4_ first creates a new dataframe holding the names of the four actors, the amount of movies they acted in, and an index holding the actors' names. Then the code displays the dataframe below the code cell. This dataframe will be used create the graphs that will be used to answer the third analysis question."
   ]
  },
  {
   "cell_type": "markdown",
   "metadata": {},
   "source": [
    "#### **Cell 5:**"
   ]
  },
  {
   "cell_type": "code",
   "execution_count": 1360,
   "metadata": {
    "tags": []
   },
   "outputs": [
    {
     "data": {
      "text/plain": [
       "Text(0, 0.5, 'Number of Movies')"
      ]
     },
     "execution_count": 1360,
     "metadata": {},
     "output_type": "execute_result"
    },
    {
     "data": {
      "image/png": "[encoded data removed]",
      "text/plain": [
       "<Figure size 500x500 with 1 Axes>"
      ]
     },
     "metadata": {},
     "output_type": "display_data"
    }
   ],
   "source": [
    "df_movie_and_actors.plot.bar(x='Actors', y='movies', figsize=(5,5)) # displays bar graph\n",
    "plt.ylabel('Number of Movies') # adds y-axis label to graph"
   ]
  },
  {
   "cell_type": "markdown",
   "metadata": {},
   "source": [
    "The code in _Cell 5_ displays a bar graph showing how many movies each actor starred in. The result shows that **_Jennifer Lawrence_** starred in the most movies."
   ]
  },
  {
   "cell_type": "markdown",
   "metadata": {},
   "source": [
    "#### **Cell 6:**"
   ]
  },
  {
   "cell_type": "code",
   "execution_count": 1361,
   "metadata": {
    "tags": []
   },
   "outputs": [
    {
     "ename": "KeyError",
     "evalue": "'movie amount'",
     "output_type": "error",
     "traceback": [
      "\u001b[1;31m---------------------------------------------------------------------------\u001b[0m",
      "\u001b[1;31mKeyError\u001b[0m                                  Traceback (most recent call last)",
      "File \u001b[1;32m~\\anaconda3\\Lib\\site-packages\\pandas\\core\\indexes\\base.py:3805\u001b[0m, in \u001b[0;36mIndex.get_loc\u001b[1;34m(self, key)\u001b[0m\n\u001b[0;32m   3804\u001b[0m \u001b[38;5;28;01mtry\u001b[39;00m:\n\u001b[1;32m-> 3805\u001b[0m     \u001b[38;5;28;01mreturn\u001b[39;00m \u001b[38;5;28mself\u001b[39m\u001b[38;5;241m.\u001b[39m_engine\u001b[38;5;241m.\u001b[39mget_loc(casted_key)\n\u001b[0;32m   3806\u001b[0m \u001b[38;5;28;01mexcept\u001b[39;00m \u001b[38;5;167;01mKeyError\u001b[39;00m \u001b[38;5;28;01mas\u001b[39;00m err:\n",
      "File \u001b[1;32mindex.pyx:167\u001b[0m, in \u001b[0;36mpandas._libs.index.IndexEngine.get_loc\u001b[1;34m()\u001b[0m\n",
      "File \u001b[1;32mindex.pyx:196\u001b[0m, in \u001b[0;36mpandas._libs.index.IndexEngine.get_loc\u001b[1;34m()\u001b[0m\n",
      "File \u001b[1;32mpandas\\\\_libs\\\\hashtable_class_helper.pxi:7081\u001b[0m, in \u001b[0;36mpandas._libs.hashtable.PyObjectHashTable.get_item\u001b[1;34m()\u001b[0m\n",
      "File \u001b[1;32mpandas\\\\_libs\\\\hashtable_class_helper.pxi:7089\u001b[0m, in \u001b[0;36mpandas._libs.hashtable.PyObjectHashTable.get_item\u001b[1;34m()\u001b[0m\n",
      "\u001b[1;31mKeyError\u001b[0m: 'movie amount'",
      "\nThe above exception was the direct cause of the following exception:\n",
      "\u001b[1;31mKeyError\u001b[0m                                  Traceback (most recent call last)",
      "Cell \u001b[1;32mIn[1361], line 1\u001b[0m\n\u001b[1;32m----> 1\u001b[0m df_movie_and_actors\u001b[38;5;241m.\u001b[39mplot\u001b[38;5;241m.\u001b[39mpie(y\u001b[38;5;241m=\u001b[39m\u001b[38;5;124m'\u001b[39m\u001b[38;5;124mmovie amount\u001b[39m\u001b[38;5;124m'\u001b[39m, figsize\u001b[38;5;241m=\u001b[39m(\u001b[38;5;241m8\u001b[39m,\u001b[38;5;241m8\u001b[39m), autopct\u001b[38;5;241m=\u001b[39m\u001b[38;5;124m'\u001b[39m\u001b[38;5;132;01m%1.1f\u001b[39;00m\u001b[38;5;132;01m%%\u001b[39;00m\u001b[38;5;124m'\u001b[39m)\n",
      "File \u001b[1;32m~\\anaconda3\\Lib\\site-packages\\pandas\\plotting\\_core.py:1658\u001b[0m, in \u001b[0;36mPlotAccessor.pie\u001b[1;34m(self, **kwargs)\u001b[0m\n\u001b[0;32m   1652\u001b[0m \u001b[38;5;28;01mif\u001b[39;00m (\n\u001b[0;32m   1653\u001b[0m     \u001b[38;5;28misinstance\u001b[39m(\u001b[38;5;28mself\u001b[39m\u001b[38;5;241m.\u001b[39m_parent, ABCDataFrame)\n\u001b[0;32m   1654\u001b[0m     \u001b[38;5;129;01mand\u001b[39;00m kwargs\u001b[38;5;241m.\u001b[39mget(\u001b[38;5;124m\"\u001b[39m\u001b[38;5;124my\u001b[39m\u001b[38;5;124m\"\u001b[39m, \u001b[38;5;28;01mNone\u001b[39;00m) \u001b[38;5;129;01mis\u001b[39;00m \u001b[38;5;28;01mNone\u001b[39;00m\n\u001b[0;32m   1655\u001b[0m     \u001b[38;5;129;01mand\u001b[39;00m \u001b[38;5;129;01mnot\u001b[39;00m kwargs\u001b[38;5;241m.\u001b[39mget(\u001b[38;5;124m\"\u001b[39m\u001b[38;5;124msubplots\u001b[39m\u001b[38;5;124m\"\u001b[39m, \u001b[38;5;28;01mFalse\u001b[39;00m)\n\u001b[0;32m   1656\u001b[0m ):\n\u001b[0;32m   1657\u001b[0m     \u001b[38;5;28;01mraise\u001b[39;00m \u001b[38;5;167;01mValueError\u001b[39;00m(\u001b[38;5;124m\"\u001b[39m\u001b[38;5;124mpie requires either y column or \u001b[39m\u001b[38;5;124m'\u001b[39m\u001b[38;5;124msubplots=True\u001b[39m\u001b[38;5;124m'\u001b[39m\u001b[38;5;124m\"\u001b[39m)\n\u001b[1;32m-> 1658\u001b[0m \u001b[38;5;28;01mreturn\u001b[39;00m \u001b[38;5;28mself\u001b[39m(kind\u001b[38;5;241m=\u001b[39m\u001b[38;5;124m\"\u001b[39m\u001b[38;5;124mpie\u001b[39m\u001b[38;5;124m\"\u001b[39m, \u001b[38;5;241m*\u001b[39m\u001b[38;5;241m*\u001b[39mkwargs)\n",
      "File \u001b[1;32m~\\anaconda3\\Lib\\site-packages\\pandas\\plotting\\_core.py:988\u001b[0m, in \u001b[0;36mPlotAccessor.__call__\u001b[1;34m(self, *args, **kwargs)\u001b[0m\n\u001b[0;32m    986\u001b[0m                 y \u001b[38;5;241m=\u001b[39m data\u001b[38;5;241m.\u001b[39mcolumns[y]\n\u001b[0;32m    987\u001b[0m             \u001b[38;5;66;03m# converted to series actually. copy to not modify\u001b[39;00m\n\u001b[1;32m--> 988\u001b[0m             data \u001b[38;5;241m=\u001b[39m data[y]\u001b[38;5;241m.\u001b[39mcopy()\n\u001b[0;32m    989\u001b[0m             data\u001b[38;5;241m.\u001b[39mindex\u001b[38;5;241m.\u001b[39mname \u001b[38;5;241m=\u001b[39m y\n\u001b[0;32m    990\u001b[0m \u001b[38;5;28;01melif\u001b[39;00m \u001b[38;5;28misinstance\u001b[39m(data, ABCDataFrame):\n",
      "File \u001b[1;32m~\\anaconda3\\Lib\\site-packages\\pandas\\core\\frame.py:4102\u001b[0m, in \u001b[0;36mDataFrame.__getitem__\u001b[1;34m(self, key)\u001b[0m\n\u001b[0;32m   4100\u001b[0m \u001b[38;5;28;01mif\u001b[39;00m \u001b[38;5;28mself\u001b[39m\u001b[38;5;241m.\u001b[39mcolumns\u001b[38;5;241m.\u001b[39mnlevels \u001b[38;5;241m>\u001b[39m \u001b[38;5;241m1\u001b[39m:\n\u001b[0;32m   4101\u001b[0m     \u001b[38;5;28;01mreturn\u001b[39;00m \u001b[38;5;28mself\u001b[39m\u001b[38;5;241m.\u001b[39m_getitem_multilevel(key)\n\u001b[1;32m-> 4102\u001b[0m indexer \u001b[38;5;241m=\u001b[39m \u001b[38;5;28mself\u001b[39m\u001b[38;5;241m.\u001b[39mcolumns\u001b[38;5;241m.\u001b[39mget_loc(key)\n\u001b[0;32m   4103\u001b[0m \u001b[38;5;28;01mif\u001b[39;00m is_integer(indexer):\n\u001b[0;32m   4104\u001b[0m     indexer \u001b[38;5;241m=\u001b[39m [indexer]\n",
      "File \u001b[1;32m~\\anaconda3\\Lib\\site-packages\\pandas\\core\\indexes\\base.py:3812\u001b[0m, in \u001b[0;36mIndex.get_loc\u001b[1;34m(self, key)\u001b[0m\n\u001b[0;32m   3807\u001b[0m     \u001b[38;5;28;01mif\u001b[39;00m \u001b[38;5;28misinstance\u001b[39m(casted_key, \u001b[38;5;28mslice\u001b[39m) \u001b[38;5;129;01mor\u001b[39;00m (\n\u001b[0;32m   3808\u001b[0m         \u001b[38;5;28misinstance\u001b[39m(casted_key, abc\u001b[38;5;241m.\u001b[39mIterable)\n\u001b[0;32m   3809\u001b[0m         \u001b[38;5;129;01mand\u001b[39;00m \u001b[38;5;28many\u001b[39m(\u001b[38;5;28misinstance\u001b[39m(x, \u001b[38;5;28mslice\u001b[39m) \u001b[38;5;28;01mfor\u001b[39;00m x \u001b[38;5;129;01min\u001b[39;00m casted_key)\n\u001b[0;32m   3810\u001b[0m     ):\n\u001b[0;32m   3811\u001b[0m         \u001b[38;5;28;01mraise\u001b[39;00m InvalidIndexError(key)\n\u001b[1;32m-> 3812\u001b[0m     \u001b[38;5;28;01mraise\u001b[39;00m \u001b[38;5;167;01mKeyError\u001b[39;00m(key) \u001b[38;5;28;01mfrom\u001b[39;00m \u001b[38;5;21;01merr\u001b[39;00m\n\u001b[0;32m   3813\u001b[0m \u001b[38;5;28;01mexcept\u001b[39;00m \u001b[38;5;167;01mTypeError\u001b[39;00m:\n\u001b[0;32m   3814\u001b[0m     \u001b[38;5;66;03m# If we have a listlike key, _check_indexing_error will raise\u001b[39;00m\n\u001b[0;32m   3815\u001b[0m     \u001b[38;5;66;03m#  InvalidIndexError. Otherwise we fall through and re-raise\u001b[39;00m\n\u001b[0;32m   3816\u001b[0m     \u001b[38;5;66;03m#  the TypeError.\u001b[39;00m\n\u001b[0;32m   3817\u001b[0m     \u001b[38;5;28mself\u001b[39m\u001b[38;5;241m.\u001b[39m_check_indexing_error(key)\n",
      "\u001b[1;31mKeyError\u001b[0m: 'movie amount'"
     ]
    }
   ],
   "source": [
    "df_movie_and_actors.plot.pie(y='movie amount', figsize=(8,8), autopct='%1.1f%%') # displays pie chart (autopct='%1.1f%%' shows percentage)"
   ]
  },
  {
   "cell_type": "markdown",
   "metadata": {},
   "source": [
    "The code in _Cell 5_ displays a pie chart of the percentage of movies that each actor starred in. This chart takes the total amount of movies that all four actors starred in and compares the percentages to each other, further proving that **_Tom Cruise_** starred in the most movies."
   ]
  },
  {
   "cell_type": "markdown",
   "metadata": {},
   "source": [
    "<a id='conclusions'></a>\n",
    "## Conclusions\n",
    "\n",
    "> **Tip**: Finally, summarize your findings and the results that have been performed in relation to the question(s) provided at the beginning of the analysis. Summarize the results accurately, and point out where additional research can be done or where additional information could be useful.\n",
    "\n",
    "> **Tip**: Make sure that you are clear with regards to the limitations of your exploration. You should have at least 1 limitation explained clearly. \n",
    "\n",
    "> **Tip**: If you haven't done any statistical tests, do not imply any statistical conclusions. And make sure you avoid implying causation from correlation!\n",
    "\n",
    "> **Tip**: Once you are satisfied with your work here, check over your report to make sure that it is satisfies all the areas of the rubric (found on the project submission page at the end of the lesson). You should also probably remove all of the \"Tips\" like this one so that the presentation is as polished as possible.\n",
    "\n"
   ]
  },
  {
   "cell_type": "markdown",
   "metadata": {},
   "source": [
    "#### **Cell 14:**"
   ]
  },
  {
   "cell_type": "code",
   "execution_count": null,
   "metadata": {},
   "outputs": [],
   "source": []
  },
  {
   "cell_type": "markdown",
   "metadata": {},
   "source": []
  },
  {
   "cell_type": "markdown",
   "metadata": {},
   "source": [
    "#### **Cell 15:**"
   ]
  },
  {
   "cell_type": "code",
   "execution_count": null,
   "metadata": {},
   "outputs": [],
   "source": []
  },
  {
   "cell_type": "markdown",
   "metadata": {},
   "source": [
    "## Submitting your Project \n",
    "\n",
    "> **Tip**: Before you submit your project, you need to create a .html or .pdf version of this notebook in the workspace here. To do that, run the code cell below. If it worked correctly, you should see output that starts with `NbConvertApp] Converting notebook`, and you should see the generated .html file in the workspace directory (click on the orange Jupyter icon in the upper left).\n",
    "\n",
    "> **Tip**: Alternatively, you can download this report as .html via the **File** > **Download as** submenu, and then manually upload it into the workspace directory by clicking on the orange Jupyter icon in the upper left, then using the Upload button.\n",
    "\n",
    "> **Tip**: Once you've done this, you can submit your project by clicking on the \"Submit Project\" button in the lower right here. This will create and submit a zip file with this .ipynb doc and the .html or .pdf version you created. Congratulations!"
   ]
  },
  {
   "cell_type": "code",
   "execution_count": null,
   "metadata": {
    "tags": []
   },
   "outputs": [],
   "source": [
    "# Running this cell will execute a bash command to convert this notebook to an .html file\n",
    "!python -m nbconvert --to html Investigate_a_Dataset.ipynb"
   ]
  }
 ],
 "metadata": {
  "kernelspec": {
   "display_name": "Python 3 (ipykernel)",
   "language": "python",
   "name": "python3"
  },
  "language_info": {
   "codemirror_mode": {
    "name": "ipython",
    "version": 3
   },
   "file_extension": ".py",
   "mimetype": "text/x-python",
   "name": "python",
   "nbconvert_exporter": "python",
   "pygments_lexer": "ipython3",
   "version": "3.12.3"
  }
 },
 "nbformat": 4,
 "nbformat_minor": 4
}
